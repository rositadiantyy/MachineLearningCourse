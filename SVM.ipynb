{
  "nbformat": 4,
  "nbformat_minor": 0,
  "metadata": {
    "colab": {
      "name": "SVM.ipynb",
      "provenance": [],
      "authorship_tag": "ABX9TyMBftmfrXKFojYoNxzlaYBO",
      "include_colab_link": true
    },
    "kernelspec": {
      "name": "python3",
      "display_name": "Python 3"
    },
    "language_info": {
      "name": "python"
    }
  },
  "cells": [
    {
      "cell_type": "markdown",
      "metadata": {
        "id": "view-in-github",
        "colab_type": "text"
      },
      "source": [
        "<a href=\"https://colab.research.google.com/github/rositadiantyy/MachineLearningCourse/blob/main/SVM.ipynb\" target=\"_parent\"><img src=\"https://colab.research.google.com/assets/colab-badge.svg\" alt=\"Open In Colab\"/></a>"
      ]
    },
    {
      "cell_type": "markdown",
      "source": [
        "# **Support Vector Machines (SVM)**\n",
        "Support vector machines (SVMs) are a set of supervised learning methods used for classification, regression and outliers detection.\n",
        "\n",
        "Example of SVM Classification:\n",
        "**Maximum Margin Separating Hyperplane Programs**"
      ],
      "metadata": {
        "id": "ZyUNE8FJUrSr"
      }
    },
    {
      "cell_type": "code",
      "execution_count": null,
      "metadata": {
        "colab": {
          "base_uri": "https://localhost:8080/",
          "height": 265
        },
        "id": "D9xx7Tg5Uotu",
        "outputId": "496787dc-9f99-4789-e43d-9f9f5e91ca11"
      },
      "outputs": [
        {
          "output_type": "display_data",
          "data": {
            "image/png": "[encoded data removed]",
            "text/plain": [
              "<Figure size 432x288 with 1 Axes>"
            ]
          },
          "metadata": {
            "needs_background": "light"
          }
        }
      ],
      "source": [
        "# libraries\n",
        "import numpy as np\n",
        "import matplotlib.pyplot as plt\n",
        "from sklearn import svm\n",
        "from sklearn.datasets import make_blobs\n",
        "\n",
        "\n",
        "# create 40 separable points\n",
        "X, y = make_blobs(n_samples=40, centers=2, random_state=6)\n",
        "\n",
        "# fit the model\n",
        "clf = svm.SVC(kernel=\"linear\", C=1000)\n",
        "clf.fit(X, y)\n",
        "\n",
        "plt.scatter(X[:, 0], X[:, 1], c=y, s=30, cmap=plt.cm.Paired)\n",
        "\n",
        "# plot the decision function\n",
        "ax = plt.gca()\n",
        "xlim = ax.get_xlim()\n",
        "ylim = ax.get_ylim()\n",
        "\n",
        "# create grid to evaluate model\n",
        "xx = np.linspace(xlim[0], xlim[1], 30)\n",
        "yy = np.linspace(ylim[0], ylim[1], 30)\n",
        "YY, XX = np.meshgrid(yy, xx)\n",
        "xy = np.vstack([XX.ravel(), YY.ravel()]).T\n",
        "Z = clf.decision_function(xy).reshape(XX.shape)\n",
        "\n",
        "# plot decision boundary and margins\n",
        "ax.contour(\n",
        "    XX, YY, Z, colors=\"k\", levels=[-1, 0, 1], alpha=0.5, linestyles=[\"--\", \"-\", \"--\"]\n",
        ")\n",
        "# plot support vectors\n",
        "ax.scatter(\n",
        "    clf.support_vectors_[:, 0],\n",
        "    clf.support_vectors_[:, 1],\n",
        "    s=100,\n",
        "    linewidth=1,\n",
        "    facecolors=\"none\",\n",
        "    edgecolors=\"k\",\n",
        ")\n",
        "plt.show()"
      ]
    },
    {
      "cell_type": "markdown",
      "source": [
        "Another example from SVM Classification from Kaggle\n",
        "\n",
        "# **Credit card dataset: SVM Classification**\n",
        "\n"
      ],
      "metadata": {
        "id": "gtIrpJRDYaww"
      }
    },
    {
      "cell_type": "code",
      "source": [
        "# Importing librairies\n",
        "\n",
        "import pandas as pd \n",
        "import numpy as np\n",
        "\n",
        "# Scikit-learn library: For SVM\n",
        "from sklearn import preprocessing\n",
        "from sklearn.metrics import confusion_matrix\n",
        "from sklearn import svm\n",
        "\n",
        "import itertools\n",
        "\n",
        "# Matplotlib library to plot the charts\n",
        "import matplotlib.pyplot as plt\n",
        "import matplotlib.mlab as mlab\n",
        "\n",
        "# Library for the statistic data vizualisation\n",
        "import seaborn\n",
        "\n",
        "%matplotlib inline"
      ],
      "metadata": {
        "id": "cDKuF9UEYxOL"
      },
      "execution_count": null,
      "outputs": []
    },
    {
      "cell_type": "code",
      "source": [
        "# Reading the file .csv\n",
        "data = pd.read_csv('creditcard.csv') \n",
        "# Converting data to Panda DataFrame\n",
        "df = pd.DataFrame(data) \n",
        "# Description of statistic features (Sum, Average, Variance, minimum, 1st quartile, 2nd quartile, 3rd Quartile and Maximum)\n",
        "df.describe() "
      ],
      "metadata": {
        "colab": {
          "base_uri": "https://localhost:8080/",
          "height": 364
        },
        "id": "nbeKY3gEY1-G",
        "outputId": "9fe95842-aaee-4960-db23-c7195f92e529"
      },
      "execution_count": 12,
      "outputs": [
        {
          "output_type": "execute_result",
          "data": {
            "text/html": [
              "\n",
              "  <div id=\"df-62fa4127-4eab-4a90-912a-551753487f22\">\n",
              "    <div class=\"colab-df-container\">\n",
              "      <div>\n",
              "<style scoped>\n",
              "    .dataframe tbody tr th:only-of-type {\n",
              "        vertical-align: middle;\n",
              "    }\n",
              "\n",
              "    .dataframe tbody tr th {\n",
              "        vertical-align: top;\n",
              "    }\n",
              "\n",
              "    .dataframe thead th {\n",
              "        text-align: right;\n",
              "    }\n",
              "</style>\n",
              "<table border=\"1\" class=\"dataframe\">\n",
              "  <thead>\n",
              "    <tr style=\"text-align: right;\">\n",
              "      <th></th>\n",
              "      <th>Time</th>\n",
              "      <th>V1</th>\n",
              "      <th>V2</th>\n",
              "      <th>V3</th>\n",
              "      <th>V4</th>\n",
              "      <th>V5</th>\n",
              "      <th>V6</th>\n",
              "      <th>V7</th>\n",
              "      <th>V8</th>\n",
              "      <th>V9</th>\n",
              "      <th>V10</th>\n",
              "      <th>V11</th>\n",
              "      <th>V12</th>\n",
              "      <th>V13</th>\n",
              "      <th>V14</th>\n",
              "      <th>V15</th>\n",
              "      <th>V16</th>\n",
              "      <th>V17</th>\n",
              "      <th>V18</th>\n",
              "      <th>V19</th>\n",
              "      <th>V20</th>\n",
              "      <th>V21</th>\n",
              "      <th>V22</th>\n",
              "      <th>V23</th>\n",
              "      <th>V24</th>\n",
              "      <th>V25</th>\n",
              "      <th>V26</th>\n",
              "      <th>V27</th>\n",
              "      <th>V28</th>\n",
              "      <th>Amount</th>\n",
              "      <th>Class</th>\n",
              "    </tr>\n",
              "  </thead>\n",
              "  <tbody>\n",
              "    <tr>\n",
              "      <th>count</th>\n",
              "      <td>69415.000000</td>\n",
              "      <td>69415.000000</td>\n",
              "      <td>69415.000000</td>\n",
              "      <td>69415.000000</td>\n",
              "      <td>69415.000000</td>\n",
              "      <td>69415.000000</td>\n",
              "      <td>69415.000000</td>\n",
              "      <td>69415.000000</td>\n",
              "      <td>69415.000000</td>\n",
              "      <td>69415.000000</td>\n",
              "      <td>69415.000000</td>\n",
              "      <td>69415.000000</td>\n",
              "      <td>69415.000000</td>\n",
              "      <td>69415.000000</td>\n",
              "      <td>69414.000000</td>\n",
              "      <td>69414.000000</td>\n",
              "      <td>69414.000000</td>\n",
              "      <td>69414.000000</td>\n",
              "      <td>69414.000000</td>\n",
              "      <td>69414.000000</td>\n",
              "      <td>69414.000000</td>\n",
              "      <td>69414.000000</td>\n",
              "      <td>69414.000000</td>\n",
              "      <td>69414.000000</td>\n",
              "      <td>69414.000000</td>\n",
              "      <td>69414.000000</td>\n",
              "      <td>69414.000000</td>\n",
              "      <td>69414.000000</td>\n",
              "      <td>69414.000000</td>\n",
              "      <td>69414.000000</td>\n",
              "      <td>69414.000000</td>\n",
              "    </tr>\n",
              "    <tr>\n",
              "      <th>mean</th>\n",
              "      <td>34519.184038</td>\n",
              "      <td>-0.244558</td>\n",
              "      <td>-0.020747</td>\n",
              "      <td>0.681822</td>\n",
              "      <td>0.168990</td>\n",
              "      <td>-0.271065</td>\n",
              "      <td>0.101799</td>\n",
              "      <td>-0.115054</td>\n",
              "      <td>0.057321</td>\n",
              "      <td>0.022473</td>\n",
              "      <td>-0.039057</td>\n",
              "      <td>0.302981</td>\n",
              "      <td>-0.187329</td>\n",
              "      <td>0.075609</td>\n",
              "      <td>0.105850</td>\n",
              "      <td>0.154576</td>\n",
              "      <td>-0.008400</td>\n",
              "      <td>0.085305</td>\n",
              "      <td>-0.094007</td>\n",
              "      <td>-0.023273</td>\n",
              "      <td>0.047002</td>\n",
              "      <td>-0.028673</td>\n",
              "      <td>-0.106244</td>\n",
              "      <td>-0.038245</td>\n",
              "      <td>0.005947</td>\n",
              "      <td>0.136399</td>\n",
              "      <td>0.021947</td>\n",
              "      <td>0.003072</td>\n",
              "      <td>0.003233</td>\n",
              "      <td>96.982484</td>\n",
              "      <td>0.002492</td>\n",
              "    </tr>\n",
              "    <tr>\n",
              "      <th>std</th>\n",
              "      <td>14370.191006</td>\n",
              "      <td>1.867033</td>\n",
              "      <td>1.655570</td>\n",
              "      <td>1.420627</td>\n",
              "      <td>1.376156</td>\n",
              "      <td>1.394497</td>\n",
              "      <td>1.308084</td>\n",
              "      <td>1.261332</td>\n",
              "      <td>1.237094</td>\n",
              "      <td>1.163167</td>\n",
              "      <td>1.093202</td>\n",
              "      <td>1.091734</td>\n",
              "      <td>1.224607</td>\n",
              "      <td>1.080374</td>\n",
              "      <td>1.038650</td>\n",
              "      <td>0.938269</td>\n",
              "      <td>0.923932</td>\n",
              "      <td>1.019069</td>\n",
              "      <td>0.861123</td>\n",
              "      <td>0.817634</td>\n",
              "      <td>0.751510</td>\n",
              "      <td>0.740458</td>\n",
              "      <td>0.638843</td>\n",
              "      <td>0.609758</td>\n",
              "      <td>0.596642</td>\n",
              "      <td>0.439081</td>\n",
              "      <td>0.497691</td>\n",
              "      <td>0.381873</td>\n",
              "      <td>0.321953</td>\n",
              "      <td>271.256886</td>\n",
              "      <td>0.049861</td>\n",
              "    </tr>\n",
              "    <tr>\n",
              "      <th>min</th>\n",
              "      <td>0.000000</td>\n",
              "      <td>-56.407510</td>\n",
              "      <td>-72.715728</td>\n",
              "      <td>-33.680984</td>\n",
              "      <td>-5.172595</td>\n",
              "      <td>-42.147898</td>\n",
              "      <td>-26.160506</td>\n",
              "      <td>-31.764946</td>\n",
              "      <td>-73.216718</td>\n",
              "      <td>-9.283925</td>\n",
              "      <td>-18.271168</td>\n",
              "      <td>-4.049895</td>\n",
              "      <td>-17.769143</td>\n",
              "      <td>-5.791881</td>\n",
              "      <td>-19.214325</td>\n",
              "      <td>-4.152532</td>\n",
              "      <td>-13.563273</td>\n",
              "      <td>-25.162799</td>\n",
              "      <td>-9.498746</td>\n",
              "      <td>-7.213527</td>\n",
              "      <td>-15.806476</td>\n",
              "      <td>-34.830382</td>\n",
              "      <td>-10.933144</td>\n",
              "      <td>-26.751119</td>\n",
              "      <td>-2.836627</td>\n",
              "      <td>-7.495741</td>\n",
              "      <td>-2.534330</td>\n",
              "      <td>-8.567638</td>\n",
              "      <td>-9.617915</td>\n",
              "      <td>0.000000</td>\n",
              "      <td>0.000000</td>\n",
              "    </tr>\n",
              "    <tr>\n",
              "      <th>25%</th>\n",
              "      <td>28649.000000</td>\n",
              "      <td>-1.004689</td>\n",
              "      <td>-0.592001</td>\n",
              "      <td>0.195519</td>\n",
              "      <td>-0.724951</td>\n",
              "      <td>-0.888408</td>\n",
              "      <td>-0.636397</td>\n",
              "      <td>-0.604542</td>\n",
              "      <td>-0.141264</td>\n",
              "      <td>-0.670457</td>\n",
              "      <td>-0.512005</td>\n",
              "      <td>-0.490703</td>\n",
              "      <td>-0.648985</td>\n",
              "      <td>-0.643458</td>\n",
              "      <td>-0.321380</td>\n",
              "      <td>-0.399530</td>\n",
              "      <td>-0.489849</td>\n",
              "      <td>-0.382597</td>\n",
              "      <td>-0.569676</td>\n",
              "      <td>-0.517622</td>\n",
              "      <td>-0.167313</td>\n",
              "      <td>-0.226091</td>\n",
              "      <td>-0.526662</td>\n",
              "      <td>-0.179120</td>\n",
              "      <td>-0.325917</td>\n",
              "      <td>-0.127368</td>\n",
              "      <td>-0.328800</td>\n",
              "      <td>-0.062430</td>\n",
              "      <td>-0.005830</td>\n",
              "      <td>7.640000</td>\n",
              "      <td>0.000000</td>\n",
              "    </tr>\n",
              "    <tr>\n",
              "      <th>50%</th>\n",
              "      <td>37791.000000</td>\n",
              "      <td>-0.242838</td>\n",
              "      <td>0.071695</td>\n",
              "      <td>0.770956</td>\n",
              "      <td>0.187901</td>\n",
              "      <td>-0.303080</td>\n",
              "      <td>-0.150180</td>\n",
              "      <td>-0.074759</td>\n",
              "      <td>0.066544</td>\n",
              "      <td>-0.069000</td>\n",
              "      <td>-0.098475</td>\n",
              "      <td>0.243456</td>\n",
              "      <td>0.052757</td>\n",
              "      <td>0.041326</td>\n",
              "      <td>0.102301</td>\n",
              "      <td>0.261009</td>\n",
              "      <td>0.061882</td>\n",
              "      <td>0.027295</td>\n",
              "      <td>-0.082973</td>\n",
              "      <td>-0.028432</td>\n",
              "      <td>-0.023600</td>\n",
              "      <td>-0.060776</td>\n",
              "      <td>-0.080608</td>\n",
              "      <td>-0.051384</td>\n",
              "      <td>0.062063</td>\n",
              "      <td>0.174489</td>\n",
              "      <td>-0.074849</td>\n",
              "      <td>0.009491</td>\n",
              "      <td>0.022774</td>\n",
              "      <td>26.470000</td>\n",
              "      <td>0.000000</td>\n",
              "    </tr>\n",
              "    <tr>\n",
              "      <th>75%</th>\n",
              "      <td>45254.500000</td>\n",
              "      <td>1.153743</td>\n",
              "      <td>0.727593</td>\n",
              "      <td>1.403552</td>\n",
              "      <td>1.051334</td>\n",
              "      <td>0.268315</td>\n",
              "      <td>0.494961</td>\n",
              "      <td>0.420173</td>\n",
              "      <td>0.344727</td>\n",
              "      <td>0.676925</td>\n",
              "      <td>0.436352</td>\n",
              "      <td>1.109420</td>\n",
              "      <td>0.589371</td>\n",
              "      <td>0.772022</td>\n",
              "      <td>0.554499</td>\n",
              "      <td>0.830392</td>\n",
              "      <td>0.547377</td>\n",
              "      <td>0.495770</td>\n",
              "      <td>0.397427</td>\n",
              "      <td>0.484251</td>\n",
              "      <td>0.171653</td>\n",
              "      <td>0.115812</td>\n",
              "      <td>0.309536</td>\n",
              "      <td>0.079192</td>\n",
              "      <td>0.403449</td>\n",
              "      <td>0.422365</td>\n",
              "      <td>0.299444</td>\n",
              "      <td>0.082493</td>\n",
              "      <td>0.075881</td>\n",
              "      <td>88.650000</td>\n",
              "      <td>0.000000</td>\n",
              "    </tr>\n",
              "    <tr>\n",
              "      <th>max</th>\n",
              "      <td>53411.000000</td>\n",
              "      <td>1.960497</td>\n",
              "      <td>18.902453</td>\n",
              "      <td>4.226108</td>\n",
              "      <td>16.715537</td>\n",
              "      <td>34.801666</td>\n",
              "      <td>22.529298</td>\n",
              "      <td>36.677268</td>\n",
              "      <td>20.007208</td>\n",
              "      <td>10.392889</td>\n",
              "      <td>13.198226</td>\n",
              "      <td>12.018913</td>\n",
              "      <td>7.848392</td>\n",
              "      <td>4.465413</td>\n",
              "      <td>10.526766</td>\n",
              "      <td>5.784514</td>\n",
              "      <td>6.098529</td>\n",
              "      <td>9.253526</td>\n",
              "      <td>5.041069</td>\n",
              "      <td>5.228342</td>\n",
              "      <td>39.420904</td>\n",
              "      <td>22.614889</td>\n",
              "      <td>10.503090</td>\n",
              "      <td>17.297845</td>\n",
              "      <td>4.014444</td>\n",
              "      <td>5.525093</td>\n",
              "      <td>3.517346</td>\n",
              "      <td>11.135740</td>\n",
              "      <td>33.847808</td>\n",
              "      <td>19656.530000</td>\n",
              "      <td>1.000000</td>\n",
              "    </tr>\n",
              "  </tbody>\n",
              "</table>\n",
              "</div>\n",
              "      <button class=\"colab-df-convert\" onclick=\"convertToInteractive('df-62fa4127-4eab-4a90-912a-551753487f22')\"\n",
              "              title=\"Convert this dataframe to an interactive table.\"\n",
              "              style=\"display:none;\">\n",
              "        \n",
              "  <svg xmlns=\"http://www.w3.org/2000/svg\" height=\"24px\"viewBox=\"0 0 24 24\"\n",
              "       width=\"24px\">\n",
              "    <path d=\"M0 0h24v24H0V0z\" fill=\"none\"/>\n",
              "    <path d=\"M18.56 5.44l.94 2.06.94-2.06 2.06-.94-2.06-.94-.94-2.06-.94 2.06-2.06.94zm-11 1L8.5 8.5l.94-2.06 2.06-.94-2.06-.94L8.5 2.5l-.94 2.06-2.06.94zm10 10l.94 2.06.94-2.06 2.06-.94-2.06-.94-.94-2.06-.94 2.06-2.06.94z\"/><path d=\"M17.41 7.96l-1.37-1.37c-.4-.4-.92-.59-1.43-.59-.52 0-1.04.2-1.43.59L10.3 9.45l-7.72 7.72c-.78.78-.78 2.05 0 2.83L4 21.41c.39.39.9.59 1.41.59.51 0 1.02-.2 1.41-.59l7.78-7.78 2.81-2.81c.8-.78.8-2.07 0-2.86zM5.41 20L4 18.59l7.72-7.72 1.47 1.35L5.41 20z\"/>\n",
              "  </svg>\n",
              "      </button>\n",
              "      \n",
              "  <style>\n",
              "    .colab-df-container {\n",
              "      display:flex;\n",
              "      flex-wrap:wrap;\n",
              "      gap: 12px;\n",
              "    }\n",
              "\n",
              "    .colab-df-convert {\n",
              "      background-color: #E8F0FE;\n",
              "      border: none;\n",
              "      border-radius: 50%;\n",
              "      cursor: pointer;\n",
              "      display: none;\n",
              "      fill: #1967D2;\n",
              "      height: 32px;\n",
              "      padding: 0 0 0 0;\n",
              "      width: 32px;\n",
              "    }\n",
              "\n",
              "    .colab-df-convert:hover {\n",
              "      background-color: #E2EBFA;\n",
              "      box-shadow: 0px 1px 2px rgba(60, 64, 67, 0.3), 0px 1px 3px 1px rgba(60, 64, 67, 0.15);\n",
              "      fill: #174EA6;\n",
              "    }\n",
              "\n",
              "    [theme=dark] .colab-df-convert {\n",
              "      background-color: #3B4455;\n",
              "      fill: #D2E3FC;\n",
              "    }\n",
              "\n",
              "    [theme=dark] .colab-df-convert:hover {\n",
              "      background-color: #434B5C;\n",
              "      box-shadow: 0px 1px 3px 1px rgba(0, 0, 0, 0.15);\n",
              "      filter: drop-shadow(0px 1px 2px rgba(0, 0, 0, 0.3));\n",
              "      fill: #FFFFFF;\n",
              "    }\n",
              "  </style>\n",
              "\n",
              "      <script>\n",
              "        const buttonEl =\n",
              "          document.querySelector('#df-62fa4127-4eab-4a90-912a-551753487f22 button.colab-df-convert');\n",
              "        buttonEl.style.display =\n",
              "          google.colab.kernel.accessAllowed ? 'block' : 'none';\n",
              "\n",
              "        async function convertToInteractive(key) {\n",
              "          const element = document.querySelector('#df-62fa4127-4eab-4a90-912a-551753487f22');\n",
              "          const dataTable =\n",
              "            await google.colab.kernel.invokeFunction('convertToInteractive',\n",
              "                                                     [key], {});\n",
              "          if (!dataTable) return;\n",
              "\n",
              "          const docLinkHtml = 'Like what you see? Visit the ' +\n",
              "            '<a target=\"_blank\" href=https://colab.research.google.com/notebooks/data_table.ipynb>data table notebook</a>'\n",
              "            + ' to learn more about interactive tables.';\n",
              "          element.innerHTML = '';\n",
              "          dataTable['output_type'] = 'display_data';\n",
              "          await google.colab.output.renderOutput(dataTable, element);\n",
              "          const docLink = document.createElement('div');\n",
              "          docLink.innerHTML = docLinkHtml;\n",
              "          element.appendChild(docLink);\n",
              "        }\n",
              "      </script>\n",
              "    </div>\n",
              "  </div>\n",
              "  "
            ],
            "text/plain": [
              "               Time            V1  ...        Amount         Class\n",
              "count  69415.000000  69415.000000  ...  69414.000000  69414.000000\n",
              "mean   34519.184038     -0.244558  ...     96.982484      0.002492\n",
              "std    14370.191006      1.867033  ...    271.256886      0.049861\n",
              "min        0.000000    -56.407510  ...      0.000000      0.000000\n",
              "25%    28649.000000     -1.004689  ...      7.640000      0.000000\n",
              "50%    37791.000000     -0.242838  ...     26.470000      0.000000\n",
              "75%    45254.500000      1.153743  ...     88.650000      0.000000\n",
              "max    53411.000000      1.960497  ...  19656.530000      1.000000\n",
              "\n",
              "[8 rows x 31 columns]"
            ]
          },
          "metadata": {},
          "execution_count": 12
        }
      ]
    },
    {
      "cell_type": "code",
      "source": [
        "# Data Visualization\n",
        "df_fraud = df[df['Class'] == 1] # Recovery of fraud data\n",
        "plt.figure(figsize=(15,10))\n",
        "plt.scatter(df_fraud['Time'], df_fraud['Amount']) # Display fraud amounts according to their time\n",
        "plt.title('Scratter plot amount fraud')\n",
        "plt.xlabel('Time')\n",
        "plt.ylabel('Amount')\n",
        "plt.xlim([0,175000])\n",
        "plt.ylim([0,2500])\n",
        "plt.show()"
      ],
      "metadata": {
        "colab": {
          "base_uri": "https://localhost:8080/",
          "height": 621
        },
        "id": "JM0cUmfiZ3W7",
        "outputId": "ef6fd749-8ee1-4f08-b4f0-7ea03f0e8974"
      },
      "execution_count": 13,
      "outputs": [
        {
          "output_type": "display_data",
          "data": {
            "image/png": "[encoded data removed]",
            "text/plain": [
              "<Figure size 1080x720 with 1 Axes>"
            ]
          },
          "metadata": {
            "needs_background": "light"
          }
        }
      ]
    },
    {
      "cell_type": "code",
      "source": [
        "nb_big_fraud = df_fraud[df_fraud['Amount'] > 1000].shape[0] # Recovery of frauds over 1000\n",
        "print('There are only '+ str(nb_big_fraud) + ' frauds where the amount was bigger than 1000 over ' + str(df_fraud.shape[0]) + ' frauds')"
      ],
      "metadata": {
        "colab": {
          "base_uri": "https://localhost:8080/"
        },
        "id": "op9gPEx8aYYp",
        "outputId": "9cb04e88-600b-4191-f528-a5f9085b1b63"
      },
      "execution_count": 14,
      "outputs": [
        {
          "output_type": "stream",
          "name": "stdout",
          "text": [
            "There are only 2 frauds where the amount was bigger than 1000 over 173 frauds\n"
          ]
        }
      ]
    },
    {
      "cell_type": "code",
      "source": [
        "# Unbalence data\n",
        "number_fraud = len(data[data.Class == 1])\n",
        "number_no_fraud = len(data[data.Class == 0])\n",
        "print('There are only '+ str(number_fraud) + ' frauds in the original dataset, even though there are ' + str(number_no_fraud) +' no frauds in the dataset.')"
      ],
      "metadata": {
        "colab": {
          "base_uri": "https://localhost:8080/"
        },
        "id": "ttaTi8M_afMG",
        "outputId": "0c7393a2-cdbd-4b9f-cfc7-06aafa54d35b"
      },
      "execution_count": 15,
      "outputs": [
        {
          "output_type": "stream",
          "name": "stdout",
          "text": [
            "There are only 173 frauds in the original dataset, even though there are 69241 no frauds in the dataset.\n"
          ]
        }
      ]
    },
    {
      "cell_type": "code",
      "source": [
        "# Achieve the best accuracy possible it would most likely label every transaction as a non-fraud\n",
        "print(\"The accuracy of the classifier then would be : \"+ str((284315-492)/284315)+ \" which is the number of good classification over the number of tuple to classify\")\n"
      ],
      "metadata": {
        "colab": {
          "base_uri": "https://localhost:8080/"
        },
        "id": "NMBW0N1_amBT",
        "outputId": "cc586ffe-d84d-481a-b9c2-72cabf74760b"
      },
      "execution_count": 16,
      "outputs": [
        {
          "output_type": "stream",
          "name": "stdout",
          "text": [
            "The accuracy of the classifier then would be : 0.998269524998681 which is the number of good classification over the number of tuple to classify\n"
          ]
        }
      ]
    },
    {
      "cell_type": "code",
      "source": [
        "# Correlation of the features\n",
        "# Calculation of the correlation coefficients in pairs, with the default method:\n",
        "# Pearson, Standard Correlation Coefficient\n",
        "df_corr = df.corr() \n",
        "\n",
        "plt.figure(figsize=(15,10))\n",
        "seaborn.heatmap(df_corr, cmap=\"YlGnBu\") # Displaying the Heatmap\n",
        "seaborn.set(font_scale=2,style='white')\n",
        "\n",
        "plt.title('Heatmap correlation')\n",
        "plt.show()"
      ],
      "metadata": {
        "colab": {
          "base_uri": "https://localhost:8080/",
          "height": 646
        },
        "id": "WApR6ckTawH2",
        "outputId": "ea7864e5-a537-4602-e295-b38ec3f74273"
      },
      "execution_count": 17,
      "outputs": [
        {
          "output_type": "display_data",
          "data": {
            "image/png": "[encoded data removed]",
            "text/plain": [
              "<Figure size 1080x720 with 2 Axes>"
            ]
          },
          "metadata": {
            "needs_background": "light"
          }
        }
      ]
    },
    {
      "cell_type": "code",
      "source": [
        "# Most of the features are not correlated with each other\n",
        "# PCA was previously performed on the data\n",
        "\n",
        "# Retrieving the correlation coefficients per feature in relation to the feature class\n",
        "rank = df_corr['Class'] \n",
        "df_rank = pd.DataFrame(rank) \n",
        "\n",
        "# Ranking the absolute values of the coefficientsin descending order\n",
        "df_rank = np.abs(df_rank).sort_values(by='Class',ascending=False) \n",
        "\n",
        "# Removing Missing Data (not a number)\n",
        "df_rank.dropna(inplace=True)"
      ],
      "metadata": {
        "id": "C5_NaznQbPk9"
      },
      "execution_count": 18,
      "outputs": []
    },
    {
      "cell_type": "code",
      "source": [
        "# We seperate ours data in two groups : a train dataset and a test dataset\n",
        "\n",
        "# Build our train dataset\n",
        "# Cut in two the original dataset\n",
        "df_train_all = df[0:150000] \n",
        "\n",
        "# Seperate the data which are the frauds and the no frauds\n",
        "df_train_1 = df_train_all[df_train_all['Class'] == 1] \n",
        "df_train_0 = df_train_all[df_train_all['Class'] == 0]\n",
        "print('In this dataset, we have ' + str(len(df_train_1)) +\" frauds so we need to take a similar number of non-fraud\")\n",
        "\n",
        "df_sample=df_train_0.sample(300)\n",
        "\n",
        "# Gather the frauds with the no frauds.\n",
        "df_train = df_train_1.append(df_sample)  \n",
        "# Mix dataset\n",
        "df_train = df_train.sample(frac=1) "
      ],
      "metadata": {
        "colab": {
          "base_uri": "https://localhost:8080/"
        },
        "id": "-2MaAYd4boCV",
        "outputId": "d2dd113c-9c11-49ca-a6f5-c9f4a90c8a9a"
      },
      "execution_count": 19,
      "outputs": [
        {
          "output_type": "stream",
          "name": "stdout",
          "text": [
            "In this dataset, we have 173 frauds so we need to take a similar number of non-fraud\n"
          ]
        }
      ]
    },
    {
      "cell_type": "code",
      "source": [
        "# Drop the features Time (useless), and the Class (label)\n",
        "X_train = df_train.drop(['Time', 'Class'],axis=1)\n",
        "\n",
        "# Create our label\n",
        "y_train = df_train['Class'] \n",
        "X_train = np.asarray(X_train)\n",
        "y_train = np.asarray(y_train)"
      ],
      "metadata": {
        "id": "LaYYdE3xb6s8"
      },
      "execution_count": 20,
      "outputs": []
    },
    {
      "cell_type": "code",
      "source": [
        "# With all the test dataset to see if the model learn correctly \n",
        "df_test_all = df[150000:]\n",
        "\n",
        "X_test_all = df_test_all.drop(['Time', 'Class'],axis=1)\n",
        "y_test_all = df_test_all['Class']\n",
        "X_test_all = np.asarray(X_test_all)\n",
        "y_test_all = np.asarray(y_test_all)"
      ],
      "metadata": {
        "id": "IvCoP9-BcKPw"
      },
      "execution_count": 21,
      "outputs": []
    },
    {
      "cell_type": "code",
      "source": [
        "# Define training and testing set after applying a dimension reduction \n",
        "# Take the first ten ranked features\n",
        "X_train_rank = df_train[df_rank.index[1:11]] \n",
        "X_train_rank = np.asarray(X_train_rank)\n",
        "\n",
        "X_test_all_rank = df_test_all[df_rank.index[1:11]]\n",
        "X_test_all_rank = np.asarray(X_test_all_rank)\n",
        "y_test_all = np.asarray(y_test_all)"
      ],
      "metadata": {
        "id": "yElSbOWKcOZG"
      },
      "execution_count": 23,
      "outputs": []
    },
    {
      "cell_type": "code",
      "source": [
        "# Confusion Matrix\n",
        "# Binary label, Class = 1 (fraud) and Class = 0 (no fraud)\n",
        "class_names=np.array(['0','1']) "
      ],
      "metadata": {
        "id": "-xiGMnmZcjPS"
      },
      "execution_count": 24,
      "outputs": []
    },
    {
      "cell_type": "code",
      "source": [
        "# Function to plot the confusion Matrix\n",
        "def plot_confusion_matrix(cm, classes,\n",
        "                          title='Confusion matrix',\n",
        "                          cmap=plt.cm.Blues):\n",
        "    \n",
        "    plt.imshow(cm, interpolation='nearest', cmap=cmap)\n",
        "    plt.title(title)\n",
        "    plt.colorbar()\n",
        "    tick_marks = np.arange(len(classes))\n",
        "    plt.xticks(tick_marks, classes, rotation=45)\n",
        "    plt.yticks(tick_marks, classes)\n",
        "\n",
        "    fmt = 'd' \n",
        "    thresh = cm.max() / 2.\n",
        "    for i, j in itertools.product(range(cm.shape[0]), range(cm.shape[1])):\n",
        "        plt.text(j, i, format(cm[i, j], fmt),\n",
        "                 horizontalalignment=\"center\",\n",
        "                 color=\"white\" if cm[i, j] > thresh else \"black\")\n",
        "\n",
        "    plt.tight_layout()\n",
        "    plt.ylabel('True label')\n",
        "    plt.xlabel('Predicted label')"
      ],
      "metadata": {
        "id": "eLOPJgKCcpi2"
      },
      "execution_count": 25,
      "outputs": []
    },
    {
      "cell_type": "code",
      "source": [
        "# Model Selection\n",
        "# Set a SVM classifier, the default SVM Classifier (Kernel = Radial Basis Function)\n",
        "classifier = svm.SVC(kernel='linear') \n",
        "\n",
        "# Then we train our model, with our balanced data train.\n",
        "classifier.fit(X_train, y_train) "
      ],
      "metadata": {
        "colab": {
          "base_uri": "https://localhost:8080/"
        },
        "id": "yKgoykxjct6f",
        "outputId": "0b453470-eccd-46c9-c834-67277563370b"
      },
      "execution_count": 27,
      "outputs": [
        {
          "output_type": "execute_result",
          "data": {
            "text/plain": [
              "SVC(kernel='linear')"
            ]
          },
          "metadata": {},
          "execution_count": 27
        }
      ]
    }
  ]
}