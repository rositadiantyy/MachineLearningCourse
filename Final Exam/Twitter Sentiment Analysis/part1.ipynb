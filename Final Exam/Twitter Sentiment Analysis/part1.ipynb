{
  "nbformat": 4,
  "nbformat_minor": 0,
  "metadata": {
    "colab": {
      "name": "part1.ipynb",
      "provenance": [],
      "authorship_tag": "ABX9TyNVHy5y9eog+7jwYRulMaFB"
    },
    "kernelspec": {
      "name": "python3",
      "display_name": "Python 3"
    },
    "language_info": {
      "name": "python"
    }
  },
  "cells": [
    {
      "cell_type": "markdown",
      "source": [
        "# **Import the Libraries**"
      ],
      "metadata": {
        "id": "1oAnoPwdzTFY"
      }
    },
    {
      "cell_type": "code",
      "source": [
        "# Installing twython\n",
        "!pip install twython"
      ],
      "metadata": {
        "colab": {
          "base_uri": "https://localhost:8080/"
        },
        "id": "Zu4RQUl3zsuu",
        "outputId": "d66c11cf-84af-433e-d7eb-886038af1c2f"
      },
      "execution_count": 2,
      "outputs": [
        {
          "output_type": "stream",
          "name": "stdout",
          "text": [
            "Collecting twython\n",
            "  Downloading twython-3.9.1-py3-none-any.whl (33 kB)\n",
            "Requirement already satisfied: requests>=2.1.0 in /usr/local/lib/python3.7/dist-packages (from twython) (2.23.0)\n",
            "Requirement already satisfied: requests-oauthlib>=0.4.0 in /usr/local/lib/python3.7/dist-packages (from twython) (1.3.0)\n",
            "Requirement already satisfied: urllib3!=1.25.0,!=1.25.1,<1.26,>=1.21.1 in /usr/local/lib/python3.7/dist-packages (from requests>=2.1.0->twython) (1.24.3)\n",
            "Requirement already satisfied: idna<3,>=2.5 in /usr/local/lib/python3.7/dist-packages (from requests>=2.1.0->twython) (2.10)\n",
            "Requirement already satisfied: certifi>=2017.4.17 in /usr/local/lib/python3.7/dist-packages (from requests>=2.1.0->twython) (2021.10.8)\n",
            "Requirement already satisfied: chardet<4,>=3.0.2 in /usr/local/lib/python3.7/dist-packages (from requests>=2.1.0->twython) (3.0.4)\n",
            "Requirement already satisfied: oauthlib>=3.0.0 in /usr/local/lib/python3.7/dist-packages (from requests-oauthlib>=0.4.0->twython) (3.1.1)\n",
            "Installing collected packages: twython\n",
            "Successfully installed twython-3.9.1\n"
          ]
        }
      ]
    },
    {
      "cell_type": "code",
      "execution_count": 98,
      "metadata": {
        "id": "IAHpIcEFIXPa",
        "colab": {
          "base_uri": "https://localhost:8080/"
        },
        "outputId": "a42f8eea-5c23-46b7-f325-e4e83d906fa7"
      },
      "outputs": [
        {
          "output_type": "stream",
          "name": "stdout",
          "text": [
            "[nltk_data] Downloading package vader_lexicon to /root/nltk_data...\n",
            "[nltk_data]   Package vader_lexicon is already up-to-date!\n"
          ]
        }
      ],
      "source": [
        "import pandas as pd\n",
        "import numpy as np\n",
        "import matplotlib.pyplot as plt\n",
        "import seaborn as sn\n",
        "import re\n",
        "import nltk\n",
        "nltk.download('vader_lexicon')\n",
        "from tqdm import tqdm\n",
        "import scipy\n",
        "from sklearn.feature_extraction.text import TfidfVectorizer\n",
        "from sklearn.feature_extraction.text import CountVectorizer\n",
        "from collections import Counter\n",
        "\n",
        "from sklearn.model_selection import RandomizedSearchCV\n",
        "\n",
        "from sklearn.metrics import roc_curve, auc\n",
        "from sklearn.metrics import roc_auc_score\n",
        "import nltk\n",
        "from nltk.sentiment.vader import SentimentIntensityAnalyzer\n",
        "from sklearn.tree import DecisionTreeClassifier\n",
        "\n",
        "from sklearn.metrics import f1_score\n",
        "from sklearn.model_selection import train_test_split\n",
        "from sklearn.metrics import classification_report\n",
        "\n",
        "import tensorflow as tf\n",
        "from tensorflow.keras import layers\n",
        "from tensorflow.keras.preprocessing.text import Tokenizer\n",
        "from tensorflow.keras.preprocessing.sequence import pad_sequences\n",
        "import tensorflow.keras.utils as ku\n",
        "import pandas as pd\n",
        "import numpy as np\n",
        "import matplotlib.pyplot as plt\n",
        "from matplotlib import style"
      ]
    },
    {
      "cell_type": "code",
      "source": [
        "# Loading the data\n",
        "df=pd.read_csv('train.csv')\n",
        "\n",
        "# Check the shape of the data\n",
        "print(df.shape)"
      ],
      "metadata": {
        "colab": {
          "base_uri": "https://localhost:8080/"
        },
        "id": "V_upfrBDzfQw",
        "outputId": "84af06e1-ae4a-40df-bd56-be628065835f"
      },
      "execution_count": 5,
      "outputs": [
        {
          "output_type": "stream",
          "name": "stdout",
          "text": [
            "(31962, 3)\n"
          ]
        }
      ]
    },
    {
      "cell_type": "code",
      "source": [
        "print(df.head())"
      ],
      "metadata": {
        "colab": {
          "base_uri": "https://localhost:8080/"
        },
        "id": "byDtMjsA0OR4",
        "outputId": "565d9561-44f0-460b-9ea8-005dc44f7345"
      },
      "execution_count": 6,
      "outputs": [
        {
          "output_type": "stream",
          "name": "stdout",
          "text": [
            "   id  label                                              tweet\n",
            "0   1      0   @user when a father is dysfunctional and is s...\n",
            "1   2      0  @user @user thanks for #lyft credit i can't us...\n",
            "2   3      0                                bihday your majesty\n",
            "3   4      0  #model   i love u take with u all the time in ...\n",
            "4   5      0             factsguide: society now    #motivation\n"
          ]
        }
      ]
    },
    {
      "cell_type": "code",
      "source": [
        "print(df.info())"
      ],
      "metadata": {
        "colab": {
          "base_uri": "https://localhost:8080/"
        },
        "id": "il_fb7AR0R9s",
        "outputId": "87d187c6-1e62-459c-8165-59314ef4e81c"
      },
      "execution_count": 7,
      "outputs": [
        {
          "output_type": "stream",
          "name": "stdout",
          "text": [
            "<class 'pandas.core.frame.DataFrame'>\n",
            "RangeIndex: 31962 entries, 0 to 31961\n",
            "Data columns (total 3 columns):\n",
            " #   Column  Non-Null Count  Dtype \n",
            "---  ------  --------------  ----- \n",
            " 0   id      31962 non-null  int64 \n",
            " 1   label   31962 non-null  int64 \n",
            " 2   tweet   31962 non-null  object\n",
            "dtypes: int64(2), object(1)\n",
            "memory usage: 749.2+ KB\n",
            "None\n"
          ]
        }
      ]
    },
    {
      "cell_type": "code",
      "source": [
        "df['label'].value_counts()"
      ],
      "metadata": {
        "colab": {
          "base_uri": "https://localhost:8080/"
        },
        "id": "9eLtritK0U-h",
        "outputId": "05b5b381-3775-4dd3-c439-5270ccdc47e4"
      },
      "execution_count": 111,
      "outputs": [
        {
          "output_type": "execute_result",
          "data": {
            "text/plain": [
              "0    29720\n",
              "1     2242\n",
              "Name: label, dtype: int64"
            ]
          },
          "metadata": {},
          "execution_count": 111
        }
      ]
    },
    {
      "cell_type": "code",
      "source": [
        "sn.set_style('whitegrid');\n",
        "ax=sn.barplot(x=['Pos','Neg'], y=df.label.value_counts()*100/df.label.value_counts().sum());\n",
        "ax.set_title('% DISTRIBUTION IN DATASET ACCORDING TO THE SENTIMENT',loc='center', pad=20, fontdict={'fontsize': 15,\n",
        "        'fontweight': 'bold',\n",
        "        'color': 'black',\n",
        "        'verticalalignment': 'baseline',\n",
        "        });\n",
        "ax.set(xlabel='Tweets Sentiments', ylabel='No. of Tweets');\n",
        "plt.show()\n",
        "ax.legend()\n",
        "ax.figure.savefig('Total-positive-negative-counts.png',pad_inches=5)"
      ],
      "metadata": {
        "colab": {
          "base_uri": "https://localhost:8080/",
          "height": 328
        },
        "id": "k0Jjje8Y0WUh",
        "outputId": "b872c07a-8d33-4be6-90a0-d808477880e9"
      },
      "execution_count": 12,
      "outputs": [
        {
          "output_type": "display_data",
          "data": {
            "image/png": "[encoded data removed]",
            "text/plain": [
              "<Figure size 432x288 with 1 Axes>"
            ]
          },
          "metadata": {}
        },
        {
          "output_type": "stream",
          "name": "stderr",
          "text": [
            "No handles with labels found to put in legend.\n"
          ]
        }
      ]
    },
    {
      "cell_type": "code",
      "source": [
        "# Observe tweet\n",
        "y_value_counts=df['label'].value_counts()\n",
        "print(\"Negative tweets  = \",y_value_counts[1], \"with percentage \", (y_value_counts[1]*100)/(y_value_counts[0]+y_value_counts[1]),'%')\n",
        "print(\"Positive tweets  = \",y_value_counts[0], \"with percentage \", (y_value_counts[0]*100)/(y_value_counts[0]+y_value_counts[1]),'%')"
      ],
      "metadata": {
        "colab": {
          "base_uri": "https://localhost:8080/"
        },
        "id": "pymnQ1aM0o6o",
        "outputId": "236d33bf-7b62-4f6d-c24b-c0ae9eabda1c"
      },
      "execution_count": 13,
      "outputs": [
        {
          "output_type": "stream",
          "name": "stdout",
          "text": [
            "Negative tweets  =  2242 with percentage  7.014579813528565 %\n",
            "Positive tweets  =  29720 with percentage  92.98542018647143 %\n"
          ]
        }
      ]
    },
    {
      "cell_type": "markdown",
      "source": [
        "# **Data Preprocessing**\n",
        "\n",
        "Since the data is in text format, we have to preprocess the data and clean the data to vectorize the data."
      ],
      "metadata": {
        "id": "AOR_SnGL1n4m"
      }
    },
    {
      "cell_type": "code",
      "source": [
        "# Replacing all blanlk spaces, - with underscore\n",
        "# Converting all letters to lower case\n",
        "df['tweet']=df['tweet'].str.replace(' ','_')\n",
        "df['tweet']=df['tweet'].str.replace('-','_')\n",
        "df['tweet']=df['tweet'].str.lower()"
      ],
      "metadata": {
        "id": "2bNKG4eJ1v1U"
      },
      "execution_count": 14,
      "outputs": []
    },
    {
      "cell_type": "code",
      "source": [
        "df.tweet[:10]"
      ],
      "metadata": {
        "colab": {
          "base_uri": "https://localhost:8080/"
        },
        "id": "GkbbQ1p_2CFk",
        "outputId": "92f59ba7-93be-46d1-a172-7e22f44f5a1e"
      },
      "execution_count": 15,
      "outputs": [
        {
          "output_type": "execute_result",
          "data": {
            "text/plain": [
              "0    _@user_when_a_father_is_dysfunctional_and_is_s...\n",
              "1    @user_@user_thanks_for_#lyft_credit_i_can't_us...\n",
              "2                                __bihday_your_majesty\n",
              "3    #model___i_love_u_take_with_u_all_the_time_in_...\n",
              "4              _factsguide:_society_now____#motivation\n",
              "5    [2/2]_huge_fan_fare_and_big_talking_before_the...\n",
              "6    _@user_camping_tomorrow_@user_@user_@user_@use...\n",
              "7    the_next_school_year_is_the_year_for_exams.ð...\n",
              "8    we_won!!!_love_the_land!!!_#allin_#cavs_#champ...\n",
              "9    _@user_@user_welcome_here_!__i'm___it's_so_#gr...\n",
              "Name: tweet, dtype: object"
            ]
          },
          "metadata": {},
          "execution_count": 15
        }
      ]
    },
    {
      "cell_type": "code",
      "source": [
        "def expand(sent):\n",
        "    \"This function will replace english short notations with full form\"\n",
        "    \n",
        "    sent=re.sub(r\"can't\", \"can not\",sent)\n",
        "    sent=re.sub(r\"won't\", \"will not\",sent)\n",
        "    \n",
        "    sent=re.sub(r\"n\\'t\", \" not\",sent)\n",
        "    sent=re.sub(r\"\\'re\", \" are\",sent)\n",
        "    sent=re.sub(r\"\\'m\",\" am\",sent)\n",
        "    sent=re.sub(r\"\\'s\",\" is\",sent)\n",
        "    sent=re.sub(r\"\\'ll\",\" will\",sent)\n",
        "    sent=re.sub(r\"\\'ve\",\" have\",sent)\n",
        "    sent=re.sub(r\"\\'d\",\" would\",sent)\n",
        "    sent=re.sub(r\"\\'t\", \" not\",sent)\n",
        "    \n",
        "    return sent"
      ],
      "metadata": {
        "id": "DpRILy752HiO"
      },
      "execution_count": 16,
      "outputs": []
    },
    {
      "cell_type": "code",
      "source": [
        "# Removing the words from the stop words list: 'no', 'nor', 'not'\n",
        "\n",
        "stopwords= ['i', 'me', 'my', 'myself', 'we', 'our', 'ours', 'ourselves', 'you', \"you're\", \"you've\",\\\n",
        "            \"you'll\", \"you'd\", 'your', 'yours', 'yourself', 'yourselves', 'he', 'him', 'his', 'himself', \\\n",
        "            'she', \"she's\", 'her', 'hers', 'herself', 'it', \"it's\", 'its', 'itself', 'they', 'them', 'their',\\\n",
        "            'theirs', 'themselves', 'what', 'which', 'who', 'whom', 'this', 'that', \"that'll\", 'these', 'those', \\\n",
        "            'am', 'is', 'are', 'was', 'were', 'be', 'been', 'being', 'have', 'has', 'had', 'having', 'do', 'does', \\\n",
        "            'did', 'doing', 'a', 'an', 'the', 'and', 'but', 'if', 'or', 'because', 'as', 'until', 'while', 'of', \\\n",
        "            'at', 'by', 'for', 'with', 'about', 'against', 'between', 'into', 'through', 'during', 'before', 'after',\\\n",
        "            'above', 'below', 'to', 'from', 'up', 'down', 'in', 'out', 'on', 'off', 'over', 'under', 'again', 'further',\\\n",
        "            'then', 'once', 'here', 'there', 'when', 'where', 'why', 'how', 'all', 'any', 'both', 'each', 'few', 'more',\\\n",
        "            'most', 'other', 'some', 'such', 'only', 'own', 'same', 'so', 'than', 'too', 'very', \\\n",
        "            's', 't', 'can', 'will', 'just', 'don', \"don't\", 'should', \"should've\", 'now', 'd', 'll', 'm', 'o', 're', \\\n",
        "            've', 'y', 'ain', 'aren', \"aren't\", 'couldn', \"couldn't\", 'didn', \"didn't\", 'doesn', \"doesn't\", 'hadn',\\\n",
        "            \"hadn't\", 'hasn', \"hasn't\", 'haven', \"haven't\", 'isn', \"isn't\", 'ma', 'mightn', \"mightn't\", 'mustn',\\\n",
        "            \"mustn't\", 'needn', \"needn't\", 'shan', \"shan't\", 'shouldn', \"shouldn't\", 'wasn', \"wasn't\", 'weren', \"weren't\", \\\n",
        "            'won', \"won't\", 'wouldn', \"wouldn't\"]"
      ],
      "metadata": {
        "id": "lVnGLo4E2LDe"
      },
      "execution_count": 17,
      "outputs": []
    },
    {
      "cell_type": "code",
      "source": [
        "def preprocess_tweet(text):\n",
        "    \"function for preprocess the text data\"\n",
        "    \n",
        "    preprocessed_tweet=[]\n",
        "    \n",
        "    for sentence in tqdm(text):\n",
        "        sent=expand(sentence)\n",
        "        sent=sent.replace(\"\\\\r\",\" \")\n",
        "        sent=sent.replace(\"\\\\n\",\" \")\n",
        "        sent=sent.replace('\\\\\"',\" \")\n",
        "        sent=re.sub(\"[^A-Za-z0-9]+\",\" \",sent)\n",
        "      \n",
        "        sent=\" \".join(i for i in sent.split() if i.lower() not in stopwords)\n",
        "        preprocessed_tweet.append(sent.lower().strip())\n",
        "        \n",
        "    return preprocessed_tweet\n",
        "        "
      ],
      "metadata": {
        "id": "is0lOb-w2QK9"
      },
      "execution_count": 19,
      "outputs": []
    },
    {
      "cell_type": "code",
      "source": [
        "preprocessed_tweets=preprocess_tweet(df['tweet'].values)"
      ],
      "metadata": {
        "colab": {
          "base_uri": "https://localhost:8080/"
        },
        "id": "GfInwdwR2Um1",
        "outputId": "53cad0f4-2a61-457a-ccb8-a61e03fb47c4"
      },
      "execution_count": 20,
      "outputs": [
        {
          "output_type": "stream",
          "name": "stderr",
          "text": [
            "100%|██████████| 31962/31962 [00:01<00:00, 18235.62it/s]\n"
          ]
        }
      ]
    },
    {
      "cell_type": "code",
      "source": [
        "df['tweet']=preprocessed_tweets"
      ],
      "metadata": {
        "id": "CVW72LRg2ZbP"
      },
      "execution_count": 21,
      "outputs": []
    },
    {
      "cell_type": "code",
      "source": [
        "df[\"tweet\"][10]"
      ],
      "metadata": {
        "colab": {
          "base_uri": "https://localhost:8080/",
          "height": 35
        },
        "id": "MMd6Whye2bFw",
        "outputId": "9f3af1e4-38d2-4f6c-cf34-39aa0672119a"
      },
      "execution_count": 22,
      "outputs": [
        {
          "output_type": "execute_result",
          "data": {
            "application/vnd.google.colaboratory.intrinsic+json": {
              "type": "string"
            },
            "text/plain": [
              "'ireland consumer price index mom climbed previous 0 2 0 5 may blog silver gold forex'"
            ]
          },
          "metadata": {},
          "execution_count": 22
        }
      ]
    },
    {
      "cell_type": "code",
      "source": [
        "word_list=[]\n",
        "for i in df[\"tweet\"]:\n",
        "    for j in i.split(' '):\n",
        "        word_list.append(j)"
      ],
      "metadata": {
        "id": "kqBVIarM2diw"
      },
      "execution_count": 23,
      "outputs": []
    },
    {
      "cell_type": "code",
      "source": [
        "counter = Counter(word_list)\n",
        "top10 = counter.most_common(11)"
      ],
      "metadata": {
        "id": "3iyXVF-K2eZn"
      },
      "execution_count": 24,
      "outputs": []
    },
    {
      "cell_type": "code",
      "source": [
        "xaxes = [i[1] for i in top10]\n",
        "yaxes = [i[0] for i in top10]\n",
        "\n",
        "sn.set_style('whitegrid');\n",
        "sn.set(rc={'figure.figsize':(11.7,8.27)})\n",
        "ax=sn.barplot(x=xaxes, y=yaxes);\n",
        "ax.set_title('TOP WORDS IN BUILT WORDLIST',loc='center', pad=20, fontdict={'fontsize': 15,\n",
        "        'fontweight': 'bold',\n",
        "        'color': 'black',\n",
        "        'verticalalignment': 'baseline',\n",
        "        });\n",
        "# ax.set(xlabel='Tweets Sentiments', ylabel='No. of Tweets');\n",
        "plt.show()\n",
        "ax.legend()\n",
        "ax.figure.savefig('top10wordscount.png',pad_inches=5)"
      ],
      "metadata": {
        "colab": {
          "base_uri": "https://localhost:8080/",
          "height": 549
        },
        "id": "xosqpUcy2kem",
        "outputId": "39a589a9-15c7-45dc-d218-af64ed5b30d4"
      },
      "execution_count": 25,
      "outputs": [
        {
          "output_type": "display_data",
          "data": {
            "image/png": "[encoded data removed]",
            "text/plain": [
              "<Figure size 842.4x595.44 with 1 Axes>"
            ]
          },
          "metadata": {}
        },
        {
          "output_type": "stream",
          "name": "stderr",
          "text": [
            "No handles with labels found to put in legend.\n"
          ]
        }
      ]
    },
    {
      "cell_type": "code",
      "source": [
        "df[df['label']==0].tweet"
      ],
      "metadata": {
        "colab": {
          "base_uri": "https://localhost:8080/"
        },
        "id": "T37EItew2o2w",
        "outputId": "4bfe5593-ee15-42a5-e42f-b21d736c6e6a"
      },
      "execution_count": 26,
      "outputs": [
        {
          "output_type": "execute_result",
          "data": {
            "text/plain": [
              "0        user father dysfunctional selfish drags kids d...\n",
              "1        user user thanks lyft credit not use cause not...\n",
              "2                                           bihday majesty\n",
              "3                              model love u take u time ur\n",
              "4                            factsguide society motivation\n",
              "                               ...                        \n",
              "31956    fishing tomorrow user carnt wait first time 2 ...\n",
              "31957                                   ate user isz youuu\n",
              "31958    see nina turner airwaves trying wrap mantle ge...\n",
              "31959      listening sad songs monday morning otw work sad\n",
              "31961                                    thank user follow\n",
              "Name: tweet, Length: 29720, dtype: object"
            ]
          },
          "metadata": {},
          "execution_count": 26
        }
      ]
    },
    {
      "cell_type": "code",
      "source": [
        "positive_word=[]\n",
        "negative_word=[]\n",
        "for i in df[df['label']==0].tweet:\n",
        "    for j in i.split(' '):\n",
        "        positive_word.append(j)\n",
        "for i in df[df['label']==1].tweet:\n",
        "    for j in i.split(' '):\n",
        "        negative_word.append(j)"
      ],
      "metadata": {
        "id": "zpM6n1DV2ubk"
      },
      "execution_count": 27,
      "outputs": []
    },
    {
      "cell_type": "code",
      "source": [
        "positive_counter = Counter(positive_word)\n",
        "negative_counter = Counter(negative_word)"
      ],
      "metadata": {
        "id": "M-fYnQ212xPQ"
      },
      "execution_count": 28,
      "outputs": []
    },
    {
      "cell_type": "code",
      "source": [
        "positive_counter.most_common(10),negative_counter.most_common(10)"
      ],
      "metadata": {
        "colab": {
          "base_uri": "https://localhost:8080/"
        },
        "id": "2UzpaUdb2y5D",
        "outputId": "7003c9fd-ddd1-444a-d0d9-0a95c96957ce"
      },
      "execution_count": 29,
      "outputs": [
        {
          "output_type": "execute_result",
          "data": {
            "text/plain": [
              "([('user', 15714),\n",
              "  ('not', 3108),\n",
              "  ('love', 2796),\n",
              "  ('day', 2336),\n",
              "  ('happy', 1694),\n",
              "  ('amp', 1476),\n",
              "  ('life', 1163),\n",
              "  ('u', 1150),\n",
              "  ('time', 1127),\n",
              "  ('today', 1078)],\n",
              " [('user', 1863),\n",
              "  ('not', 353),\n",
              "  ('amp', 300),\n",
              "  ('trump', 213),\n",
              "  ('libtard', 149),\n",
              "  ('white', 140),\n",
              "  ('like', 139),\n",
              "  ('black', 134),\n",
              "  ('racist', 108),\n",
              "  ('politics', 97)])"
            ]
          },
          "metadata": {},
          "execution_count": 29
        }
      ]
    },
    {
      "cell_type": "code",
      "source": [
        "negative_counter.get('friday')"
      ],
      "metadata": {
        "id": "RCq1OqAe22hs"
      },
      "execution_count": 30,
      "outputs": []
    },
    {
      "cell_type": "code",
      "source": [
        "w = ['good','bad','information']\n",
        "y1 = []\n",
        "y2=[]\n",
        "for i in w:\n",
        "    y1.append(positive_counter.get(i))\n",
        "    y2.append(negative_counter.get(i))\n",
        "\n",
        "y2"
      ],
      "metadata": {
        "colab": {
          "base_uri": "https://localhost:8080/"
        },
        "id": "xY7X8GDT27NG",
        "outputId": "fd5c0762-a5d8-4e03-fa98-39cab5e99dbd"
      },
      "execution_count": 32,
      "outputs": [
        {
          "output_type": "execute_result",
          "data": {
            "text/plain": [
              "[33, 8, 2]"
            ]
          },
          "metadata": {},
          "execution_count": 32
        }
      ]
    },
    {
      "cell_type": "code",
      "source": [
        "X_axis = np.arange(len(w))\n",
        "  \n",
        "plt.bar(X_axis-0.2 , y1, 0.4, label = 'Pos')\n",
        "plt.bar(X_axis+0.2 , y2, 0.4, label = 'Neg')\n",
        "  \n",
        "plt.xticks(X_axis, w)\n",
        "plt.xlabel(\"Words\", fontdict={'family': 'serif',\n",
        "        'color':  'darkred',\n",
        "        'weight': 'normal',\n",
        "        'size': 16,\n",
        "        })\n",
        "plt.ylabel(\"Number of Words\", fontdict={'family': 'serif',\n",
        "        'color':  'darkred',\n",
        "        'weight': 'normal',\n",
        "        'size': 16,\n",
        "        })\n",
        "plt.title(\"Most Common Words Across Sentiments\", fontdict={'family': 'serif',\n",
        "        'color':  'darkblue',\n",
        "        'weight': 'bold',\n",
        "        'size': 18,\n",
        "        })\n",
        "plt.legend()\n",
        "plt.show()"
      ],
      "metadata": {
        "colab": {
          "base_uri": "https://localhost:8080/",
          "height": 541
        },
        "id": "hCNUvDKm2_m5",
        "outputId": "7d1aac6d-005b-4c1d-d9ca-c7bbbafa8323"
      },
      "execution_count": 33,
      "outputs": [
        {
          "output_type": "display_data",
          "data": {
            "image/png": "[encoded data removed]",
            "text/plain": [
              "<Figure size 842.4x595.44 with 1 Axes>"
            ]
          },
          "metadata": {}
        }
      ]
    },
    {
      "cell_type": "code",
      "source": [
        "# Cleaning text data\n",
        "positive_counter.most_common(10), negative_counter.most_common(10)\n"
      ],
      "metadata": {
        "colab": {
          "base_uri": "https://localhost:8080/"
        },
        "id": "x4Em_TX83Cer",
        "outputId": "dff6a02c-9069-494a-b51c-2b751aeb83bd"
      },
      "execution_count": 34,
      "outputs": [
        {
          "output_type": "execute_result",
          "data": {
            "text/plain": [
              "([('user', 15714),\n",
              "  ('not', 3108),\n",
              "  ('love', 2796),\n",
              "  ('day', 2336),\n",
              "  ('happy', 1694),\n",
              "  ('amp', 1476),\n",
              "  ('life', 1163),\n",
              "  ('u', 1150),\n",
              "  ('time', 1127),\n",
              "  ('today', 1078)],\n",
              " [('user', 1863),\n",
              "  ('not', 353),\n",
              "  ('amp', 300),\n",
              "  ('trump', 213),\n",
              "  ('libtard', 149),\n",
              "  ('white', 140),\n",
              "  ('like', 139),\n",
              "  ('black', 134),\n",
              "  ('racist', 108),\n",
              "  ('politics', 97)])"
            ]
          },
          "metadata": {},
          "execution_count": 34
        }
      ]
    },
    {
      "cell_type": "code",
      "source": [
        "# Splitting data into train and test\n",
        "y=df['label']\n",
        "x=df.drop(['label'],axis=1)\n",
        "\n",
        "x_train,x_test,y_train,y_test=train_test_split(x,y,test_size=0.2,stratify=y,random_state=40)\n",
        "\n",
        "x_test"
      ],
      "metadata": {
        "colab": {
          "base_uri": "https://localhost:8080/",
          "height": 424
        },
        "id": "Bv1KmS0E3Ub2",
        "outputId": "05e63eb2-f689-4f85-a7e1-f629a4fc64ff"
      },
      "execution_count": 35,
      "outputs": [
        {
          "output_type": "execute_result",
          "data": {
            "text/html": [
              "\n",
              "  <div id=\"df-ca42ddec-2f83-41d2-bdb8-60f2f30eedb1\">\n",
              "    <div class=\"colab-df-container\">\n",
              "      <div>\n",
              "<style scoped>\n",
              "    .dataframe tbody tr th:only-of-type {\n",
              "        vertical-align: middle;\n",
              "    }\n",
              "\n",
              "    .dataframe tbody tr th {\n",
              "        vertical-align: top;\n",
              "    }\n",
              "\n",
              "    .dataframe thead th {\n",
              "        text-align: right;\n",
              "    }\n",
              "</style>\n",
              "<table border=\"1\" class=\"dataframe\">\n",
              "  <thead>\n",
              "    <tr style=\"text-align: right;\">\n",
              "      <th></th>\n",
              "      <th>id</th>\n",
              "      <th>tweet</th>\n",
              "    </tr>\n",
              "  </thead>\n",
              "  <tbody>\n",
              "    <tr>\n",
              "      <th>25807</th>\n",
              "      <td>25808</td>\n",
              "      <td>proud congressional co chairs womeninpolitics ...</td>\n",
              "    </tr>\n",
              "    <tr>\n",
              "      <th>28366</th>\n",
              "      <td>28367</td>\n",
              "      <td>root beer storm rootbeer storm rain thunder li...</td>\n",
              "    </tr>\n",
              "    <tr>\n",
              "      <th>30638</th>\n",
              "      <td>30639</td>\n",
              "      <td>bard marocan teapot designed elhabiba maroc de...</td>\n",
              "    </tr>\n",
              "    <tr>\n",
              "      <th>19319</th>\n",
              "      <td>19320</td>\n",
              "      <td>hating conservative homophobes using tragedy w...</td>\n",
              "    </tr>\n",
              "    <tr>\n",
              "      <th>16207</th>\n",
              "      <td>16208</td>\n",
              "      <td>redneck island woohoo pumped redneck woo hoo h...</td>\n",
              "    </tr>\n",
              "    <tr>\n",
              "      <th>...</th>\n",
              "      <td>...</td>\n",
              "      <td>...</td>\n",
              "    </tr>\n",
              "    <tr>\n",
              "      <th>844</th>\n",
              "      <td>845</td>\n",
              "      <td>great way spend saturday relaxation positivevi...</td>\n",
              "    </tr>\n",
              "    <tr>\n",
              "      <th>11901</th>\n",
              "      <td>11902</td>\n",
              "      <td>preach happiness goodvibes positivevibes yoga ...</td>\n",
              "    </tr>\n",
              "    <tr>\n",
              "      <th>15357</th>\n",
              "      <td>15358</td>\n",
              "      <td>w beloved husband ever</td>\n",
              "    </tr>\n",
              "    <tr>\n",
              "      <th>31630</th>\n",
              "      <td>31631</td>\n",
              "      <td>oh wow bernie dropping ourrevolution trump wom...</td>\n",
              "    </tr>\n",
              "    <tr>\n",
              "      <th>22854</th>\n",
              "      <td>22855</td>\n",
              "      <td>sh tty day makes soccerfan copaamericacentenario</td>\n",
              "    </tr>\n",
              "  </tbody>\n",
              "</table>\n",
              "<p>6393 rows × 2 columns</p>\n",
              "</div>\n",
              "      <button class=\"colab-df-convert\" onclick=\"convertToInteractive('df-ca42ddec-2f83-41d2-bdb8-60f2f30eedb1')\"\n",
              "              title=\"Convert this dataframe to an interactive table.\"\n",
              "              style=\"display:none;\">\n",
              "        \n",
              "  <svg xmlns=\"http://www.w3.org/2000/svg\" height=\"24px\"viewBox=\"0 0 24 24\"\n",
              "       width=\"24px\">\n",
              "    <path d=\"M0 0h24v24H0V0z\" fill=\"none\"/>\n",
              "    <path d=\"M18.56 5.44l.94 2.06.94-2.06 2.06-.94-2.06-.94-.94-2.06-.94 2.06-2.06.94zm-11 1L8.5 8.5l.94-2.06 2.06-.94-2.06-.94L8.5 2.5l-.94 2.06-2.06.94zm10 10l.94 2.06.94-2.06 2.06-.94-2.06-.94-.94-2.06-.94 2.06-2.06.94z\"/><path d=\"M17.41 7.96l-1.37-1.37c-.4-.4-.92-.59-1.43-.59-.52 0-1.04.2-1.43.59L10.3 9.45l-7.72 7.72c-.78.78-.78 2.05 0 2.83L4 21.41c.39.39.9.59 1.41.59.51 0 1.02-.2 1.41-.59l7.78-7.78 2.81-2.81c.8-.78.8-2.07 0-2.86zM5.41 20L4 18.59l7.72-7.72 1.47 1.35L5.41 20z\"/>\n",
              "  </svg>\n",
              "      </button>\n",
              "      \n",
              "  <style>\n",
              "    .colab-df-container {\n",
              "      display:flex;\n",
              "      flex-wrap:wrap;\n",
              "      gap: 12px;\n",
              "    }\n",
              "\n",
              "    .colab-df-convert {\n",
              "      background-color: #E8F0FE;\n",
              "      border: none;\n",
              "      border-radius: 50%;\n",
              "      cursor: pointer;\n",
              "      display: none;\n",
              "      fill: #1967D2;\n",
              "      height: 32px;\n",
              "      padding: 0 0 0 0;\n",
              "      width: 32px;\n",
              "    }\n",
              "\n",
              "    .colab-df-convert:hover {\n",
              "      background-color: #E2EBFA;\n",
              "      box-shadow: 0px 1px 2px rgba(60, 64, 67, 0.3), 0px 1px 3px 1px rgba(60, 64, 67, 0.15);\n",
              "      fill: #174EA6;\n",
              "    }\n",
              "\n",
              "    [theme=dark] .colab-df-convert {\n",
              "      background-color: #3B4455;\n",
              "      fill: #D2E3FC;\n",
              "    }\n",
              "\n",
              "    [theme=dark] .colab-df-convert:hover {\n",
              "      background-color: #434B5C;\n",
              "      box-shadow: 0px 1px 3px 1px rgba(0, 0, 0, 0.15);\n",
              "      filter: drop-shadow(0px 1px 2px rgba(0, 0, 0, 0.3));\n",
              "      fill: #FFFFFF;\n",
              "    }\n",
              "  </style>\n",
              "\n",
              "      <script>\n",
              "        const buttonEl =\n",
              "          document.querySelector('#df-ca42ddec-2f83-41d2-bdb8-60f2f30eedb1 button.colab-df-convert');\n",
              "        buttonEl.style.display =\n",
              "          google.colab.kernel.accessAllowed ? 'block' : 'none';\n",
              "\n",
              "        async function convertToInteractive(key) {\n",
              "          const element = document.querySelector('#df-ca42ddec-2f83-41d2-bdb8-60f2f30eedb1');\n",
              "          const dataTable =\n",
              "            await google.colab.kernel.invokeFunction('convertToInteractive',\n",
              "                                                     [key], {});\n",
              "          if (!dataTable) return;\n",
              "\n",
              "          const docLinkHtml = 'Like what you see? Visit the ' +\n",
              "            '<a target=\"_blank\" href=https://colab.research.google.com/notebooks/data_table.ipynb>data table notebook</a>'\n",
              "            + ' to learn more about interactive tables.';\n",
              "          element.innerHTML = '';\n",
              "          dataTable['output_type'] = 'display_data';\n",
              "          await google.colab.output.renderOutput(dataTable, element);\n",
              "          const docLink = document.createElement('div');\n",
              "          docLink.innerHTML = docLinkHtml;\n",
              "          element.appendChild(docLink);\n",
              "        }\n",
              "      </script>\n",
              "    </div>\n",
              "  </div>\n",
              "  "
            ],
            "text/plain": [
              "          id                                              tweet\n",
              "25807  25808  proud congressional co chairs womeninpolitics ...\n",
              "28366  28367  root beer storm rootbeer storm rain thunder li...\n",
              "30638  30639  bard marocan teapot designed elhabiba maroc de...\n",
              "19319  19320  hating conservative homophobes using tragedy w...\n",
              "16207  16208  redneck island woohoo pumped redneck woo hoo h...\n",
              "...      ...                                                ...\n",
              "844      845  great way spend saturday relaxation positivevi...\n",
              "11901  11902  preach happiness goodvibes positivevibes yoga ...\n",
              "15357  15358                             w beloved husband ever\n",
              "31630  31631  oh wow bernie dropping ourrevolution trump wom...\n",
              "22854  22855   sh tty day makes soccerfan copaamericacentenario\n",
              "\n",
              "[6393 rows x 2 columns]"
            ]
          },
          "metadata": {},
          "execution_count": 35
        }
      ]
    },
    {
      "cell_type": "markdown",
      "source": [
        "**Vectorization**"
      ],
      "metadata": {
        "id": "H78s2zR33izQ"
      }
    },
    {
      "cell_type": "code",
      "source": [
        "# TFIDF for text data\n",
        "vect=TfidfVectorizer(min_df=10)\n",
        "\n",
        "vect.fit(x_train['tweet'].values)\n",
        "\n",
        "train_tweet=vect.transform(x_train['tweet'].values)\n",
        "test_tweet=vect.transform(x_test['tweet'].values)\n",
        "\n",
        "print(train_tweet.shape,y_train.shape)\n",
        "print(test_tweet.shape,y_test.shape)"
      ],
      "metadata": {
        "colab": {
          "base_uri": "https://localhost:8080/"
        },
        "id": "VEC8QsRC3oDf",
        "outputId": "23f3edb5-2e43-4fce-faa8-05abeead2a63"
      },
      "execution_count": 36,
      "outputs": [
        {
          "output_type": "stream",
          "name": "stdout",
          "text": [
            "(25569, 2763) (25569,)\n",
            "(6393, 2763) (6393,)\n"
          ]
        }
      ]
    },
    {
      "cell_type": "code",
      "source": [
        "#calculating sentiment scores for train data\n",
        "x_train_sent=np.ndarray.tolist(x_train[\"tweet\"].values)\n",
        "\n",
        "sia=SentimentIntensityAnalyzer()\n",
        "ps=[]\n",
        "for i in range(len(x_train_sent)):\n",
        "    ps.append((sia.polarity_scores((x_train_sent[i]))))\n",
        "    \n",
        "x_train_polarity=np.array(ps)\n",
        "x_train_polarity=x_train_polarity.reshape(-1,1)\n",
        "x_train_polarity.shape"
      ],
      "metadata": {
        "colab": {
          "base_uri": "https://localhost:8080/"
        },
        "id": "-Xi9AgUT3tzS",
        "outputId": "821a0bca-4347-462d-c134-c8bd9d478773"
      },
      "execution_count": 40,
      "outputs": [
        {
          "output_type": "execute_result",
          "data": {
            "text/plain": [
              "(25569, 1)"
            ]
          },
          "metadata": {},
          "execution_count": 40
        }
      ]
    },
    {
      "cell_type": "code",
      "source": [
        "#storing only scores of sentiment\n",
        "x_t=[]\n",
        "for i in range(len(x_train)):\n",
        "    for j in x_train_polarity[0][0]:\n",
        "        x_t.append(x_train_polarity[i][0][j])\n",
        "x_t=np.array(x_t)\n",
        "x_t=x_t.reshape(-1,4)\n",
        "x_t.shape"
      ],
      "metadata": {
        "colab": {
          "base_uri": "https://localhost:8080/"
        },
        "id": "R5f6EAQc3zrM",
        "outputId": "ea2426ee-46ee-48e6-ba58-e8225b07cb1d"
      },
      "execution_count": 41,
      "outputs": [
        {
          "output_type": "execute_result",
          "data": {
            "text/plain": [
              "(25569, 4)"
            ]
          },
          "metadata": {},
          "execution_count": 41
        }
      ]
    },
    {
      "cell_type": "code",
      "source": [
        "#calculating sentiment scores for test data\n",
        "x_test_sent=np.ndarray.tolist(x_test[\"tweet\"].values)\n",
        "\n",
        "sia=SentimentIntensityAnalyzer()\n",
        "ps=[]\n",
        "for i in range(len(x_test_sent)):\n",
        "    ps.append((sia.polarity_scores((x_test_sent[i]))))\n",
        "    \n",
        "x_test_polarity=np.array(ps)\n",
        "x_test_polarity=x_test_polarity.reshape(-1,1)\n",
        "x_test_polarity.shape"
      ],
      "metadata": {
        "colab": {
          "base_uri": "https://localhost:8080/"
        },
        "id": "eXTRiZ_y4cBG",
        "outputId": "782bb2a8-e35f-49df-e455-929d0c3e5b68"
      },
      "execution_count": 42,
      "outputs": [
        {
          "output_type": "execute_result",
          "data": {
            "text/plain": [
              "(6393, 1)"
            ]
          },
          "metadata": {},
          "execution_count": 42
        }
      ]
    },
    {
      "cell_type": "code",
      "source": [
        "#storing only scores of sentiment\n",
        "x_tests=[]\n",
        "for i in range(len(x_test)):\n",
        "    for j in x_test_polarity[0][0]:\n",
        "        x_tests.append(x_test_polarity[i][0][j])\n",
        "x_tests=np.array(x_tests)\n",
        "x_tests=x_tests.reshape(-1,4)\n",
        "x_tests.shape"
      ],
      "metadata": {
        "colab": {
          "base_uri": "https://localhost:8080/"
        },
        "id": "kmw1Hd244cwv",
        "outputId": "f0302068-4dfa-415c-e66a-ec24f1345205"
      },
      "execution_count": 43,
      "outputs": [
        {
          "output_type": "execute_result",
          "data": {
            "text/plain": [
              "(6393, 4)"
            ]
          },
          "metadata": {},
          "execution_count": 43
        }
      ]
    },
    {
      "cell_type": "code",
      "source": [
        "# Convert the vectors into scipy.sparse matrix\n",
        "from scipy.sparse import hstack"
      ],
      "metadata": {
        "id": "dXMh6V524er9"
      },
      "execution_count": 44,
      "outputs": []
    },
    {
      "cell_type": "code",
      "source": [
        "x_tr=hstack((train_tweet,x_t))\n",
        "x_te=hstack((test_tweet,x_tests))\n",
        "\n",
        "print(x_tr.shape)\n",
        "print(x_te.shape)"
      ],
      "metadata": {
        "colab": {
          "base_uri": "https://localhost:8080/"
        },
        "id": "3EGDWJ-a4kVd",
        "outputId": "aab84883-59c0-404f-f277-0889b0b9a38a"
      },
      "execution_count": 45,
      "outputs": [
        {
          "output_type": "stream",
          "name": "stdout",
          "text": [
            "(25569, 2767)\n",
            "(6393, 2767)\n"
          ]
        }
      ]
    },
    {
      "cell_type": "code",
      "source": [
        "print(test_tweet)"
      ],
      "metadata": {
        "colab": {
          "base_uri": "https://localhost:8080/"
        },
        "id": "eI8ekspq4lAU",
        "outputId": "7489718a-742b-43b4-eb5d-519acce2799b"
      },
      "execution_count": 46,
      "outputs": [
        {
          "output_type": "stream",
          "name": "stdout",
          "text": [
            "  (0, 1933)\t0.4799627799627368\n",
            "  (0, 555)\t0.656373312175343\n",
            "  (0, 511)\t0.5820737108944289\n",
            "  (1, 2322)\t0.7984558839207088\n",
            "  (1, 1969)\t0.349396822751368\n",
            "  (1, 418)\t0.33484162995223826\n",
            "  (1, 258)\t0.35814961194251915\n",
            "  (2, 1780)\t0.5563435228696378\n",
            "  (2, 1480)\t0.2499926175684175\n",
            "  (2, 1292)\t0.5930233558005863\n",
            "  (2, 658)\t0.5256509062080108\n",
            "  (3, 2639)\t0.2521714854687438\n",
            "  (3, 2575)\t0.3606122930334627\n",
            "  (3, 2501)\t0.4242291759698843\n",
            "  (3, 2494)\t0.3553423653518665\n",
            "  (3, 1756)\t0.263006241008935\n",
            "  (3, 1702)\t0.16239895286026026\n",
            "  (3, 1651)\t0.3533835813763681\n",
            "  (3, 1284)\t0.3732363976083819\n",
            "  (3, 164)\t0.37469809031520196\n",
            "  (4, 2703)\t0.5253527784749055\n",
            "  (4, 2589)\t0.3528305059935181\n",
            "  (4, 1939)\t0.5402403699868036\n",
            "  (4, 1287)\t0.49745050404352376\n",
            "  (4, 1120)\t0.24535368522282383\n",
            "  :\t:\n",
            "  (6387, 1965)\t0.2811262797077729\n",
            "  (6387, 1307)\t0.3302829279042166\n",
            "  (6387, 877)\t0.3685020027471522\n",
            "  (6387, 534)\t0.3517822628767341\n",
            "  (6387, 437)\t0.37474914969807666\n",
            "  (6387, 403)\t0.31864310525678013\n",
            "  (6387, 142)\t0.17552498421672177\n",
            "  (6388, 2639)\t0.30993422169920654\n",
            "  (6388, 2279)\t0.4662625684404545\n",
            "  (6388, 2101)\t0.35978935000510853\n",
            "  (6388, 1874)\t0.48492726254961394\n",
            "  (6388, 1078)\t0.3105345121159934\n",
            "  (6388, 401)\t0.4748741790568729\n",
            "  (6389, 2750)\t0.5051321931528304\n",
            "  (6389, 1874)\t0.5543636673371098\n",
            "  (6389, 1119)\t0.3779065648935015\n",
            "  (6389, 1062)\t0.5428710896590052\n",
            "  (6390, 1210)\t0.7871270414684411\n",
            "  (6390, 803)\t0.616790905079784\n",
            "  (6391, 2720)\t0.4782674969308217\n",
            "  (6391, 2517)\t0.4113371755886532\n",
            "  (6391, 1729)\t0.473916317001783\n",
            "  (6391, 269)\t0.6143820096957118\n",
            "  (6392, 1514)\t0.837620617131747\n",
            "  (6392, 628)\t0.5462524157894695\n"
          ]
        }
      ]
    },
    {
      "cell_type": "markdown",
      "source": [
        "# **Descision Tree Classifier**"
      ],
      "metadata": {
        "id": "IrwR0IJJ4wCO"
      }
    },
    {
      "cell_type": "code",
      "source": [
        "#since the data is imbalanced , we assign some more weight to class 1\n",
        "\n",
        "wt={0:1,1:5}            \n",
        "clf=DecisionTreeClassifier(class_weight=wt)\n",
        "\n",
        "parameters=dict(max_depth=[1,5,10,50],min_samples_split=[5,10,100,500])\n",
        "\n",
        "search=RandomizedSearchCV(clf,parameters,random_state=10)\n",
        "result=search.fit(x_tr,y_train)\n",
        "result.cv_results_"
      ],
      "metadata": {
        "colab": {
          "base_uri": "https://localhost:8080/"
        },
        "id": "1wWfTHZg4zpP",
        "outputId": "44463f8f-7e89-4ab5-b289-3987653f8a63"
      },
      "execution_count": 47,
      "outputs": [
        {
          "output_type": "execute_result",
          "data": {
            "text/plain": [
              "{'mean_fit_time': array([0.10229597, 0.02700148, 0.92945542, 0.09836226, 0.0987834 ,\n",
              "        0.20541687, 0.19221463, 0.02714038, 0.19173307, 1.02244892]),\n",
              " 'mean_score_time': array([0.00213294, 0.00141768, 0.00248089, 0.00184264, 0.00165277,\n",
              "        0.00175586, 0.00207334, 0.0015584 , 0.00179281, 0.00250316]),\n",
              " 'mean_test_score': array([0.90601893, 0.81841286, 0.91063412, 0.90519764, 0.9059016 ,\n",
              "        0.92099837, 0.91865181, 0.81841286, 0.91720478, 0.92784227]),\n",
              " 'param_max_depth': masked_array(data=[5, 1, 50, 5, 5, 10, 10, 1, 10, 50],\n",
              "              mask=[False, False, False, False, False, False, False, False,\n",
              "                    False, False],\n",
              "        fill_value='?',\n",
              "             dtype=object),\n",
              " 'param_min_samples_split': masked_array(data=[10, 500, 100, 500, 100, 5, 100, 100, 500, 5],\n",
              "              mask=[False, False, False, False, False, False, False, False,\n",
              "                    False, False],\n",
              "        fill_value='?',\n",
              "             dtype=object),\n",
              " 'params': [{'max_depth': 5, 'min_samples_split': 10},\n",
              "  {'max_depth': 1, 'min_samples_split': 500},\n",
              "  {'max_depth': 50, 'min_samples_split': 100},\n",
              "  {'max_depth': 5, 'min_samples_split': 500},\n",
              "  {'max_depth': 5, 'min_samples_split': 100},\n",
              "  {'max_depth': 10, 'min_samples_split': 5},\n",
              "  {'max_depth': 10, 'min_samples_split': 100},\n",
              "  {'max_depth': 1, 'min_samples_split': 100},\n",
              "  {'max_depth': 10, 'min_samples_split': 500},\n",
              "  {'max_depth': 50, 'min_samples_split': 5}],\n",
              " 'rank_test_score': array([6, 9, 5, 8, 7, 2, 3, 9, 4, 1], dtype=int32),\n",
              " 'split0_test_score': array([0.90731326, 0.81638639, 0.91415722, 0.90672663, 0.90789988,\n",
              "        0.91415722, 0.91102855, 0.81638639, 0.90887759, 0.93019163]),\n",
              " 'split1_test_score': array([0.90594447, 0.82068831, 0.9098553 , 0.90477122, 0.90594447,\n",
              "        0.92334767, 0.92100117, 0.82068831, 0.91728588, 0.92491201]),\n",
              " 'split2_test_score': array([0.90829097, 0.82088385, 0.9028158 , 0.90672663, 0.90731326,\n",
              "        0.91337505, 0.91200626, 0.82088385, 0.91122409, 0.92569417]),\n",
              " 'split3_test_score': array([0.90457567, 0.8173641 , 0.91200626, 0.90418459, 0.90438013,\n",
              "        0.92569417, 0.92256551, 0.8173641 , 0.92236996, 0.93156042]),\n",
              " 'split4_test_score': array([0.90397027, 0.81674164, 0.91433601, 0.90357911, 0.90397027,\n",
              "        0.92841776, 0.92665754, 0.81674164, 0.92626638, 0.92685312]),\n",
              " 'std_fit_time': array([0.00281779, 0.0023791 , 0.02368106, 0.00155019, 0.00201133,\n",
              "        0.00401505, 0.00308636, 0.00104392, 0.00558041, 0.0186815 ]),\n",
              " 'std_score_time': array([6.38646119e-04, 5.82171891e-05, 5.03555843e-05, 3.53436501e-04,\n",
              "        2.28650254e-05, 1.99837441e-05, 6.05646254e-04, 2.09730307e-05,\n",
              "        2.68360631e-05, 3.65084166e-05]),\n",
              " 'std_test_score': array([0.00162006, 0.00196382, 0.00423631, 0.0013041 , 0.0015513 ,\n",
              "        0.00612427, 0.00611892, 0.00196382, 0.00654078, 0.00258934])}"
            ]
          },
          "metadata": {},
          "execution_count": 47
        }
      ]
    },
    {
      "cell_type": "code",
      "source": [
        "search.best_params_"
      ],
      "metadata": {
        "colab": {
          "base_uri": "https://localhost:8080/"
        },
        "id": "GaI2gp_B48gz",
        "outputId": "78f13c58-e777-479f-992b-34f58b441898"
      },
      "execution_count": 48,
      "outputs": [
        {
          "output_type": "execute_result",
          "data": {
            "text/plain": [
              "{'max_depth': 50, 'min_samples_split': 5}"
            ]
          },
          "metadata": {},
          "execution_count": 48
        }
      ]
    },
    {
      "cell_type": "code",
      "source": [
        "cls = DecisionTreeClassifier(max_depth=50,min_samples_split=5,random_state=10,class_weight=wt)\n",
        "cls.fit(x_tr,y_train)"
      ],
      "metadata": {
        "colab": {
          "base_uri": "https://localhost:8080/"
        },
        "id": "11Jxhx9d5A3Q",
        "outputId": "5aaeaf06-32c4-4516-91aa-b52423003662"
      },
      "execution_count": 49,
      "outputs": [
        {
          "output_type": "execute_result",
          "data": {
            "text/plain": [
              "DecisionTreeClassifier(class_weight={0: 1, 1: 5}, max_depth=50,\n",
              "                       min_samples_split=5, random_state=10)"
            ]
          },
          "metadata": {},
          "execution_count": 49
        }
      ]
    },
    {
      "cell_type": "code",
      "source": [
        "y_pred_train=cls.predict(x_tr)\n",
        "y_pred_test=cls.predict(x_te)\n",
        "\n",
        "train_fpr,train_tpr,tr_treshold=roc_curve(y_train,y_pred_train)\n",
        "test_fpr,test_tpr,te_treshold=roc_curve(y_test,y_pred_test)\n",
        "\n",
        "train_auc=auc(train_fpr,train_tpr)\n",
        "test_auc=auc(test_fpr,test_tpr)\n",
        "\n",
        "plt.plot(train_fpr,train_tpr,label='Train AUC = '+str(train_auc))\n",
        "plt.plot(test_fpr,test_tpr,label='Test AUC = '+str(test_auc))\n",
        "plt.legend()\n",
        "plt.xlabel('FPR')\n",
        "plt.ylabel('TPR')\n",
        "plt.title(\"AUC_Curve\")\n",
        "plt.grid()\n",
        "plt.show()"
      ],
      "metadata": {
        "colab": {
          "base_uri": "https://localhost:8080/",
          "height": 533
        },
        "id": "6Zn8lMkR5C4W",
        "outputId": "07fead55-80f0-4aaa-9cf8-21b0b7281f0a"
      },
      "execution_count": 50,
      "outputs": [
        {
          "output_type": "display_data",
          "data": {
            "image/png": "[encoded data removed]",
            "text/plain": [
              "<Figure size 842.4x595.44 with 1 Axes>"
            ]
          },
          "metadata": {}
        }
      ]
    },
    {
      "cell_type": "code",
      "source": [
        "def find_best_threshold(threshold, fpr, tpr):\n",
        "    t = threshold[np.argmax(tpr*(1-fpr))]\n",
        "    \n",
        "    # (tpr*(1-fpr)) will be maximum if your fpr is very low and tpr is very high\n",
        "    print(\"the maximum value of tpr*(1-fpr)\", max(tpr*(1-fpr)), \"for threshold\", np.round(t,3))\n",
        "    \n",
        "    return t\n",
        "\n",
        "def predict_with_best_t(proba, threshold):\n",
        "    predictions = []\n",
        "    for i in proba:\n",
        "        if i>=threshold:\n",
        "            predictions.append(1)\n",
        "        else:\n",
        "            predictions.append(0)\n",
        "    return predictions"
      ],
      "metadata": {
        "id": "WV_m-DVR5JYK"
      },
      "execution_count": 51,
      "outputs": []
    },
    {
      "cell_type": "code",
      "source": [
        "#computing confusion matrix for set_1\n",
        "\n",
        "from sklearn.metrics import confusion_matrix\n",
        "best_t = find_best_threshold(tr_treshold, train_fpr, train_tpr)\n",
        "print(\"Train confusion matrix\")\n",
        "m_tr=(confusion_matrix(y_train, predict_with_best_t(y_pred_train, best_t)))\n",
        "print(m_tr)\n",
        "print(\"Test confusion matrix\")\n",
        "m_te=(confusion_matrix(y_test, predict_with_best_t(y_pred_test, best_t)))\n",
        "print(m_te)"
      ],
      "metadata": {
        "colab": {
          "base_uri": "https://localhost:8080/"
        },
        "id": "9-YXNqTr5RAQ",
        "outputId": "75c20d75-3dad-486c-ea0c-6a67fc168d3a"
      },
      "execution_count": 52,
      "outputs": [
        {
          "output_type": "stream",
          "name": "stdout",
          "text": [
            "the maximum value of tpr*(1-fpr) 0.8534575468878033 for threshold 1\n",
            "Train confusion matrix\n",
            "[[23470   305]\n",
            " [  243  1551]]\n",
            "Test confusion matrix\n",
            "[[5670  275]\n",
            " [ 192  256]]\n"
          ]
        }
      ]
    },
    {
      "cell_type": "code",
      "source": [
        "print(classification_report(y_test, y_pred_test))"
      ],
      "metadata": {
        "colab": {
          "base_uri": "https://localhost:8080/"
        },
        "id": "L9Cran6m5S8N",
        "outputId": "a657f304-f6a7-41c0-e834-63796c535cdd"
      },
      "execution_count": 53,
      "outputs": [
        {
          "output_type": "stream",
          "name": "stdout",
          "text": [
            "              precision    recall  f1-score   support\n",
            "\n",
            "           0       0.97      0.95      0.96      5945\n",
            "           1       0.48      0.57      0.52       448\n",
            "\n",
            "    accuracy                           0.93      6393\n",
            "   macro avg       0.72      0.76      0.74      6393\n",
            "weighted avg       0.93      0.93      0.93      6393\n",
            "\n"
          ]
        }
      ]
    },
    {
      "cell_type": "code",
      "source": [
        "df3 = pd.DataFrame(classification_report(y_pred_test, \n",
        "                                        y_test, digits=2,\n",
        "                                        output_dict=True)).T\n",
        "\n",
        "df3['support'] = df3.support.apply(int)\n",
        "\n",
        "df3.style.background_gradient(cmap='viridis',\n",
        "                             subset=pd.IndexSlice['0':'9', :'f1-score'])"
      ],
      "metadata": {
        "colab": {
          "base_uri": "https://localhost:8080/",
          "height": 206
        },
        "id": "ySsibQ6c5dU2",
        "outputId": "9ea591c1-54ec-413d-badf-34d678f1dcbf"
      },
      "execution_count": 54,
      "outputs": [
        {
          "output_type": "execute_result",
          "data": {
            "text/html": [
              "<style  type=\"text/css\" >\n",
              "#T_d723333e_7a99_11ec_bc2f_0242ac1c0002row0_col0,#T_d723333e_7a99_11ec_bc2f_0242ac1c0002row0_col1,#T_d723333e_7a99_11ec_bc2f_0242ac1c0002row0_col2{\n",
              "            background-color:  #fde725;\n",
              "            color:  #000000;\n",
              "        }#T_d723333e_7a99_11ec_bc2f_0242ac1c0002row1_col0,#T_d723333e_7a99_11ec_bc2f_0242ac1c0002row1_col1,#T_d723333e_7a99_11ec_bc2f_0242ac1c0002row1_col2{\n",
              "            background-color:  #440154;\n",
              "            color:  #f1f1f1;\n",
              "        }</style><table id=\"T_d723333e_7a99_11ec_bc2f_0242ac1c0002\" class=\"dataframe\"><thead>    <tr>        <th class=\"blank level0\" ></th>        <th class=\"col_heading level0 col0\" >precision</th>        <th class=\"col_heading level0 col1\" >recall</th>        <th class=\"col_heading level0 col2\" >f1-score</th>        <th class=\"col_heading level0 col3\" >support</th>    </tr></thead><tbody>\n",
              "                <tr>\n",
              "                        <th id=\"T_d723333e_7a99_11ec_bc2f_0242ac1c0002level0_row0\" class=\"row_heading level0 row0\" >0</th>\n",
              "                        <td id=\"T_d723333e_7a99_11ec_bc2f_0242ac1c0002row0_col0\" class=\"data row0 col0\" >0.953743</td>\n",
              "                        <td id=\"T_d723333e_7a99_11ec_bc2f_0242ac1c0002row0_col1\" class=\"data row0 col1\" >0.967247</td>\n",
              "                        <td id=\"T_d723333e_7a99_11ec_bc2f_0242ac1c0002row0_col2\" class=\"data row0 col2\" >0.960447</td>\n",
              "                        <td id=\"T_d723333e_7a99_11ec_bc2f_0242ac1c0002row0_col3\" class=\"data row0 col3\" >5862</td>\n",
              "            </tr>\n",
              "            <tr>\n",
              "                        <th id=\"T_d723333e_7a99_11ec_bc2f_0242ac1c0002level0_row1\" class=\"row_heading level0 row1\" >1</th>\n",
              "                        <td id=\"T_d723333e_7a99_11ec_bc2f_0242ac1c0002row1_col0\" class=\"data row1 col0\" >0.571429</td>\n",
              "                        <td id=\"T_d723333e_7a99_11ec_bc2f_0242ac1c0002row1_col1\" class=\"data row1 col1\" >0.482109</td>\n",
              "                        <td id=\"T_d723333e_7a99_11ec_bc2f_0242ac1c0002row1_col2\" class=\"data row1 col2\" >0.522983</td>\n",
              "                        <td id=\"T_d723333e_7a99_11ec_bc2f_0242ac1c0002row1_col3\" class=\"data row1 col3\" >531</td>\n",
              "            </tr>\n",
              "            <tr>\n",
              "                        <th id=\"T_d723333e_7a99_11ec_bc2f_0242ac1c0002level0_row2\" class=\"row_heading level0 row2\" >accuracy</th>\n",
              "                        <td id=\"T_d723333e_7a99_11ec_bc2f_0242ac1c0002row2_col0\" class=\"data row2 col0\" >0.926951</td>\n",
              "                        <td id=\"T_d723333e_7a99_11ec_bc2f_0242ac1c0002row2_col1\" class=\"data row2 col1\" >0.926951</td>\n",
              "                        <td id=\"T_d723333e_7a99_11ec_bc2f_0242ac1c0002row2_col2\" class=\"data row2 col2\" >0.926951</td>\n",
              "                        <td id=\"T_d723333e_7a99_11ec_bc2f_0242ac1c0002row2_col3\" class=\"data row2 col3\" >0</td>\n",
              "            </tr>\n",
              "            <tr>\n",
              "                        <th id=\"T_d723333e_7a99_11ec_bc2f_0242ac1c0002level0_row3\" class=\"row_heading level0 row3\" >macro avg</th>\n",
              "                        <td id=\"T_d723333e_7a99_11ec_bc2f_0242ac1c0002row3_col0\" class=\"data row3 col0\" >0.762586</td>\n",
              "                        <td id=\"T_d723333e_7a99_11ec_bc2f_0242ac1c0002row3_col1\" class=\"data row3 col1\" >0.724678</td>\n",
              "                        <td id=\"T_d723333e_7a99_11ec_bc2f_0242ac1c0002row3_col2\" class=\"data row3 col2\" >0.741715</td>\n",
              "                        <td id=\"T_d723333e_7a99_11ec_bc2f_0242ac1c0002row3_col3\" class=\"data row3 col3\" >6393</td>\n",
              "            </tr>\n",
              "            <tr>\n",
              "                        <th id=\"T_d723333e_7a99_11ec_bc2f_0242ac1c0002level0_row4\" class=\"row_heading level0 row4\" >weighted avg</th>\n",
              "                        <td id=\"T_d723333e_7a99_11ec_bc2f_0242ac1c0002row4_col0\" class=\"data row4 col0\" >0.921988</td>\n",
              "                        <td id=\"T_d723333e_7a99_11ec_bc2f_0242ac1c0002row4_col1\" class=\"data row4 col1\" >0.926951</td>\n",
              "                        <td id=\"T_d723333e_7a99_11ec_bc2f_0242ac1c0002row4_col2\" class=\"data row4 col2\" >0.924112</td>\n",
              "                        <td id=\"T_d723333e_7a99_11ec_bc2f_0242ac1c0002row4_col3\" class=\"data row4 col3\" >6393</td>\n",
              "            </tr>\n",
              "    </tbody></table>"
            ],
            "text/plain": [
              "<pandas.io.formats.style.Styler at 0x7fac646aead0>"
            ]
          },
          "metadata": {},
          "execution_count": 54
        }
      ]
    },
    {
      "cell_type": "code",
      "source": [
        "dt_df = pd.DataFrame(columns=['tweet', 'sentiment-predicted', 'label'])"
      ],
      "metadata": {
        "id": "HJPLLodv5fpf"
      },
      "execution_count": 55,
      "outputs": []
    },
    {
      "cell_type": "code",
      "source": [
        "# Coloring the elements\n",
        "def color_negative_red(value):\n",
        "\n",
        "    if value == 'Positive':\n",
        "        color = 'green'\n",
        "    else:\n",
        "        color='red'\n",
        "\n",
        "    return 'color: %s' % color"
      ],
      "metadata": {
        "id": "6GX2s8xD5gj8"
      },
      "execution_count": 56,
      "outputs": []
    },
    {
      "cell_type": "code",
      "source": [
        "# Classification\n",
        "dt_df = pd.DataFrame(columns=['tweet', 'sentiment-predicted', 'label'])\n",
        "dt_df['tweet'] = x_test['tweet']\n",
        "dt_df['sentiment-predicted'] = y_pred_test\n",
        "dt_df['label'] =y_test\n",
        "dt_df.replace(to_replace=[0,1],value=['Positive','Negative'], inplace=True)\n",
        "(dt_df.sample(10)[['tweet','sentiment-predicted','label']].style\n",
        "    .applymap(color_negative_red, subset=['sentiment-predicted','label']))"
      ],
      "metadata": {
        "colab": {
          "base_uri": "https://localhost:8080/",
          "height": 363
        },
        "id": "HThCwe3C5tDq",
        "outputId": "aa36957a-f99b-48da-dc35-23ff9ff8112d"
      },
      "execution_count": 57,
      "outputs": [
        {
          "output_type": "execute_result",
          "data": {
            "text/html": [
              "<style  type=\"text/css\" >\n",
              "#T_0a747ac2_7a9a_11ec_bc2f_0242ac1c0002row0_col1,#T_0a747ac2_7a9a_11ec_bc2f_0242ac1c0002row0_col2,#T_0a747ac2_7a9a_11ec_bc2f_0242ac1c0002row1_col1,#T_0a747ac2_7a9a_11ec_bc2f_0242ac1c0002row1_col2,#T_0a747ac2_7a9a_11ec_bc2f_0242ac1c0002row2_col2,#T_0a747ac2_7a9a_11ec_bc2f_0242ac1c0002row3_col1,#T_0a747ac2_7a9a_11ec_bc2f_0242ac1c0002row3_col2,#T_0a747ac2_7a9a_11ec_bc2f_0242ac1c0002row4_col1,#T_0a747ac2_7a9a_11ec_bc2f_0242ac1c0002row4_col2,#T_0a747ac2_7a9a_11ec_bc2f_0242ac1c0002row5_col1,#T_0a747ac2_7a9a_11ec_bc2f_0242ac1c0002row5_col2,#T_0a747ac2_7a9a_11ec_bc2f_0242ac1c0002row6_col1,#T_0a747ac2_7a9a_11ec_bc2f_0242ac1c0002row6_col2,#T_0a747ac2_7a9a_11ec_bc2f_0242ac1c0002row7_col1,#T_0a747ac2_7a9a_11ec_bc2f_0242ac1c0002row7_col2,#T_0a747ac2_7a9a_11ec_bc2f_0242ac1c0002row8_col1,#T_0a747ac2_7a9a_11ec_bc2f_0242ac1c0002row8_col2,#T_0a747ac2_7a9a_11ec_bc2f_0242ac1c0002row9_col1,#T_0a747ac2_7a9a_11ec_bc2f_0242ac1c0002row9_col2{\n",
              "            color:  green;\n",
              "        }#T_0a747ac2_7a9a_11ec_bc2f_0242ac1c0002row2_col1{\n",
              "            color:  red;\n",
              "        }</style><table id=\"T_0a747ac2_7a9a_11ec_bc2f_0242ac1c0002\" class=\"dataframe\"><thead>    <tr>        <th class=\"blank level0\" ></th>        <th class=\"col_heading level0 col0\" >tweet</th>        <th class=\"col_heading level0 col1\" >sentiment-predicted</th>        <th class=\"col_heading level0 col2\" >label</th>    </tr></thead><tbody>\n",
              "                <tr>\n",
              "                        <th id=\"T_0a747ac2_7a9a_11ec_bc2f_0242ac1c0002level0_row0\" class=\"row_heading level0 row0\" >2179</th>\n",
              "                        <td id=\"T_0a747ac2_7a9a_11ec_bc2f_0242ac1c0002row0_col0\" class=\"data row0 col0\" >user talked friend visited germany said country lost refugees throw trash everyplace threatn citi</td>\n",
              "                        <td id=\"T_0a747ac2_7a9a_11ec_bc2f_0242ac1c0002row0_col1\" class=\"data row0 col1\" >Positive</td>\n",
              "                        <td id=\"T_0a747ac2_7a9a_11ec_bc2f_0242ac1c0002row0_col2\" class=\"data row0 col2\" >Positive</td>\n",
              "            </tr>\n",
              "            <tr>\n",
              "                        <th id=\"T_0a747ac2_7a9a_11ec_bc2f_0242ac1c0002level0_row1\" class=\"row_heading level0 row1\" >15592</th>\n",
              "                        <td id=\"T_0a747ac2_7a9a_11ec_bc2f_0242ac1c0002row1_col0\" class=\"data row1 col0\" >engaging positive affirmation</td>\n",
              "                        <td id=\"T_0a747ac2_7a9a_11ec_bc2f_0242ac1c0002row1_col1\" class=\"data row1 col1\" >Positive</td>\n",
              "                        <td id=\"T_0a747ac2_7a9a_11ec_bc2f_0242ac1c0002row1_col2\" class=\"data row1 col2\" >Positive</td>\n",
              "            </tr>\n",
              "            <tr>\n",
              "                        <th id=\"T_0a747ac2_7a9a_11ec_bc2f_0242ac1c0002level0_row2\" class=\"row_heading level0 row2\" >26563</th>\n",
              "                        <td id=\"T_0a747ac2_7a9a_11ec_bc2f_0242ac1c0002row2_col0\" class=\"data row2 col0\" >user ordered pearlywhites white glowing</td>\n",
              "                        <td id=\"T_0a747ac2_7a9a_11ec_bc2f_0242ac1c0002row2_col1\" class=\"data row2 col1\" >Negative</td>\n",
              "                        <td id=\"T_0a747ac2_7a9a_11ec_bc2f_0242ac1c0002row2_col2\" class=\"data row2 col2\" >Positive</td>\n",
              "            </tr>\n",
              "            <tr>\n",
              "                        <th id=\"T_0a747ac2_7a9a_11ec_bc2f_0242ac1c0002level0_row3\" class=\"row_heading level0 row3\" >22454</th>\n",
              "                        <td id=\"T_0a747ac2_7a9a_11ec_bc2f_0242ac1c0002row3_col0\" class=\"data row3 col0\" >quite content selfacceptance selflove inspiration</td>\n",
              "                        <td id=\"T_0a747ac2_7a9a_11ec_bc2f_0242ac1c0002row3_col1\" class=\"data row3 col1\" >Positive</td>\n",
              "                        <td id=\"T_0a747ac2_7a9a_11ec_bc2f_0242ac1c0002row3_col2\" class=\"data row3 col2\" >Positive</td>\n",
              "            </tr>\n",
              "            <tr>\n",
              "                        <th id=\"T_0a747ac2_7a9a_11ec_bc2f_0242ac1c0002level0_row4\" class=\"row_heading level0 row4\" >8254</th>\n",
              "                        <td id=\"T_0a747ac2_7a9a_11ec_bc2f_0242ac1c0002row4_col0\" class=\"data row4 col0\" >diyscoveries father day leather wallet</td>\n",
              "                        <td id=\"T_0a747ac2_7a9a_11ec_bc2f_0242ac1c0002row4_col1\" class=\"data row4 col1\" >Positive</td>\n",
              "                        <td id=\"T_0a747ac2_7a9a_11ec_bc2f_0242ac1c0002row4_col2\" class=\"data row4 col2\" >Positive</td>\n",
              "            </tr>\n",
              "            <tr>\n",
              "                        <th id=\"T_0a747ac2_7a9a_11ec_bc2f_0242ac1c0002level0_row5\" class=\"row_heading level0 row5\" >3747</th>\n",
              "                        <td id=\"T_0a747ac2_7a9a_11ec_bc2f_0242ac1c0002row5_col0\" class=\"data row5 col0\" >user us always us</td>\n",
              "                        <td id=\"T_0a747ac2_7a9a_11ec_bc2f_0242ac1c0002row5_col1\" class=\"data row5 col1\" >Positive</td>\n",
              "                        <td id=\"T_0a747ac2_7a9a_11ec_bc2f_0242ac1c0002row5_col2\" class=\"data row5 col2\" >Positive</td>\n",
              "            </tr>\n",
              "            <tr>\n",
              "                        <th id=\"T_0a747ac2_7a9a_11ec_bc2f_0242ac1c0002level0_row6\" class=\"row_heading level0 row6\" >4903</th>\n",
              "                        <td id=\"T_0a747ac2_7a9a_11ec_bc2f_0242ac1c0002row6_col0\" class=\"data row6 col0\" >countdown sun mallorca relax kids</td>\n",
              "                        <td id=\"T_0a747ac2_7a9a_11ec_bc2f_0242ac1c0002row6_col1\" class=\"data row6 col1\" >Positive</td>\n",
              "                        <td id=\"T_0a747ac2_7a9a_11ec_bc2f_0242ac1c0002row6_col2\" class=\"data row6 col2\" >Positive</td>\n",
              "            </tr>\n",
              "            <tr>\n",
              "                        <th id=\"T_0a747ac2_7a9a_11ec_bc2f_0242ac1c0002level0_row7\" class=\"row_heading level0 row7\" >22307</th>\n",
              "                        <td id=\"T_0a747ac2_7a9a_11ec_bc2f_0242ac1c0002row7_col0\" class=\"data row7 col0\" >sad happened orlando please pray families victims killed john 15 12 orlando john1512</td>\n",
              "                        <td id=\"T_0a747ac2_7a9a_11ec_bc2f_0242ac1c0002row7_col1\" class=\"data row7 col1\" >Positive</td>\n",
              "                        <td id=\"T_0a747ac2_7a9a_11ec_bc2f_0242ac1c0002row7_col2\" class=\"data row7 col2\" >Positive</td>\n",
              "            </tr>\n",
              "            <tr>\n",
              "                        <th id=\"T_0a747ac2_7a9a_11ec_bc2f_0242ac1c0002level0_row8\" class=\"row_heading level0 row8\" >11451</th>\n",
              "                        <td id=\"T_0a747ac2_7a9a_11ec_bc2f_0242ac1c0002row8_col0\" class=\"data row8 col0\" >makes hear shootings happen america makeamericasafeagain benice</td>\n",
              "                        <td id=\"T_0a747ac2_7a9a_11ec_bc2f_0242ac1c0002row8_col1\" class=\"data row8 col1\" >Positive</td>\n",
              "                        <td id=\"T_0a747ac2_7a9a_11ec_bc2f_0242ac1c0002row8_col2\" class=\"data row8 col2\" >Positive</td>\n",
              "            </tr>\n",
              "            <tr>\n",
              "                        <th id=\"T_0a747ac2_7a9a_11ec_bc2f_0242ac1c0002level0_row9\" class=\"row_heading level0 row9\" >8580</th>\n",
              "                        <td id=\"T_0a747ac2_7a9a_11ec_bc2f_0242ac1c0002row9_col0\" class=\"data row9 col0\" >get see boy tonight datenight</td>\n",
              "                        <td id=\"T_0a747ac2_7a9a_11ec_bc2f_0242ac1c0002row9_col1\" class=\"data row9 col1\" >Positive</td>\n",
              "                        <td id=\"T_0a747ac2_7a9a_11ec_bc2f_0242ac1c0002row9_col2\" class=\"data row9 col2\" >Positive</td>\n",
              "            </tr>\n",
              "    </tbody></table>"
            ],
            "text/plain": [
              "<pandas.io.formats.style.Styler at 0x7fac64112850>"
            ]
          },
          "metadata": {},
          "execution_count": 57
        }
      ]
    },
    {
      "cell_type": "markdown",
      "source": [
        "# **Naive Bayes**"
      ],
      "metadata": {
        "id": "2VUNNGSV6i9w"
      }
    },
    {
      "cell_type": "code",
      "source": [
        "# CountVectorizer\n",
        "vec=CountVectorizer(min_df=10)\n",
        "vec.fit(x_train['tweet'].values)\n",
        "\n",
        "x_tr_count=vec.transform(x_train['tweet'].values)\n",
        "x_te_count=vec.transform(x_test['tweet'].values)\n",
        "x_tr_count.shape"
      ],
      "metadata": {
        "colab": {
          "base_uri": "https://localhost:8080/"
        },
        "id": "aL-SMlPJ52bg",
        "outputId": "b9c0332b-9b85-421e-93f3-e818730da5e4"
      },
      "execution_count": 58,
      "outputs": [
        {
          "output_type": "execute_result",
          "data": {
            "text/plain": [
              "(25569, 2763)"
            ]
          },
          "metadata": {},
          "execution_count": 58
        }
      ]
    },
    {
      "cell_type": "code",
      "source": [
        "x_tr_data=hstack((x_tr_count,x_t))\n",
        "x_te_data=hstack((x_te_count,x_tests))\n",
        "\n",
        "x_trn=scipy.sparse.csr_matrix(x_tr_count)\n",
        "x_tst=scipy.sparse.csr_matrix(x_te_count)"
      ],
      "metadata": {
        "id": "hg_pqYBf6toG"
      },
      "execution_count": 59,
      "outputs": []
    },
    {
      "cell_type": "code",
      "source": [
        "from sklearn.naive_bayes import MultinomialNB\n",
        "from sklearn.model_selection import GridSearchCV, StratifiedKFold\n",
        "from sklearn.model_selection import KFold"
      ],
      "metadata": {
        "id": "E4tLAJUx6xdt"
      },
      "execution_count": 60,
      "outputs": []
    },
    {
      "cell_type": "code",
      "source": [
        "nb = MultinomialNB()\n",
        "params = {'alpha': [0.1, 0.5, 1, 2]}\n",
        "gs = GridSearchCV(nb,param_grid=params, return_train_score=True)\n",
        "gs.fit(x_trn,y_train)"
      ],
      "metadata": {
        "colab": {
          "base_uri": "https://localhost:8080/"
        },
        "id": "PeMIEZOq6zey",
        "outputId": "185604eb-e9fc-454e-f587-bd4f689db4cc"
      },
      "execution_count": 61,
      "outputs": [
        {
          "output_type": "execute_result",
          "data": {
            "text/plain": [
              "GridSearchCV(estimator=MultinomialNB(), param_grid={'alpha': [0.1, 0.5, 1, 2]},\n",
              "             return_train_score=True)"
            ]
          },
          "metadata": {},
          "execution_count": 61
        }
      ]
    },
    {
      "cell_type": "code",
      "source": [
        "gs.best_estimator_"
      ],
      "metadata": {
        "colab": {
          "base_uri": "https://localhost:8080/"
        },
        "id": "LR-Grmlx61Ra",
        "outputId": "25d45cb4-9ca8-4b30-fd23-0ed8b5305aeb"
      },
      "execution_count": 62,
      "outputs": [
        {
          "output_type": "execute_result",
          "data": {
            "text/plain": [
              "MultinomialNB(alpha=0.1)"
            ]
          },
          "metadata": {},
          "execution_count": 62
        }
      ]
    },
    {
      "cell_type": "code",
      "source": [
        "nb = MultinomialNB()\n",
        "params = {'alpha': [0.1, 2]}\n",
        "gs = GridSearchCV(nb,param_grid=params, return_train_score=True)\n",
        "gs.fit(x_trn,y_train)"
      ],
      "metadata": {
        "colab": {
          "base_uri": "https://localhost:8080/"
        },
        "id": "D61EX-lz62tJ",
        "outputId": "2d06d338-9b9f-46ea-e0f4-7e56f5009481"
      },
      "execution_count": 63,
      "outputs": [
        {
          "output_type": "execute_result",
          "data": {
            "text/plain": [
              "GridSearchCV(estimator=MultinomialNB(), param_grid={'alpha': [0.1, 2]},\n",
              "             return_train_score=True)"
            ]
          },
          "metadata": {},
          "execution_count": 63
        }
      ]
    },
    {
      "cell_type": "code",
      "source": [
        "skf = StratifiedKFold(n_splits=8)\n",
        "params = {'alpha': [0.1, 2]}\n",
        "nb = MultinomialNB()\n",
        "gs = GridSearchCV(nb, cv=skf, param_grid=params, return_train_score=True)\n",
        "gs.fit(x_trn,y_train)"
      ],
      "metadata": {
        "colab": {
          "base_uri": "https://localhost:8080/"
        },
        "id": "F9TSkQiD64Rs",
        "outputId": "ef4679f7-f854-4b18-d306-6903f26d2b68"
      },
      "execution_count": 64,
      "outputs": [
        {
          "output_type": "execute_result",
          "data": {
            "text/plain": [
              "GridSearchCV(cv=StratifiedKFold(n_splits=8, random_state=None, shuffle=False),\n",
              "             estimator=MultinomialNB(), param_grid={'alpha': [0.1, 2]},\n",
              "             return_train_score=True)"
            ]
          },
          "metadata": {},
          "execution_count": 64
        }
      ]
    },
    {
      "cell_type": "code",
      "source": [
        "gs.best_score_"
      ],
      "metadata": {
        "colab": {
          "base_uri": "https://localhost:8080/"
        },
        "id": "1WdRrOxv6543",
        "outputId": "e4d1ac70-0037-4ebe-8f82-6c61d55ff6fd"
      },
      "execution_count": 65,
      "outputs": [
        {
          "output_type": "execute_result",
          "data": {
            "text/plain": [
              "0.9443079385868245"
            ]
          },
          "metadata": {},
          "execution_count": 65
        }
      ]
    },
    {
      "cell_type": "code",
      "source": [
        "train_pred=gs.predict(x_trn)\n",
        "test_pred=gs.predict(x_tst)"
      ],
      "metadata": {
        "id": "reonoox96-PK"
      },
      "execution_count": 66,
      "outputs": []
    },
    {
      "cell_type": "code",
      "source": [
        "train_fpr,train_tpr,tr_treshold=roc_curve(y_train,train_pred)\n",
        "test_fpr,test_tpr,te_treshold=roc_curve(y_test,test_pred)\n",
        "\n",
        "train_auc=auc(train_fpr,train_tpr)\n",
        "test_auc=auc(test_fpr,test_tpr)\n",
        "\n",
        "plt.plot(train_fpr,train_tpr,label='Train AUC = '+str(train_auc))\n",
        "plt.plot(test_fpr,test_tpr,label='Test AUC = '+str(test_auc))\n",
        "plt.legend()\n",
        "plt.xlabel('FPR')\n",
        "plt.ylabel('TPR')\n",
        "plt.title(\"AUC_Curve\")\n",
        "plt.grid()\n",
        "plt.show()"
      ],
      "metadata": {
        "colab": {
          "base_uri": "https://localhost:8080/",
          "height": 533
        },
        "id": "SItrWb1n6-7E",
        "outputId": "167d686f-c1db-4ba8-bdbf-09fc981277d2"
      },
      "execution_count": 67,
      "outputs": [
        {
          "output_type": "display_data",
          "data": {
            "image/png": "[encoded data removed]",
            "text/plain": [
              "<Figure size 842.4x595.44 with 1 Axes>"
            ]
          },
          "metadata": {}
        }
      ]
    },
    {
      "cell_type": "code",
      "source": [
        "df1 = pd.DataFrame(classification_report(gs.predict(x_tst), \n",
        "                                        y_test, digits=2,\n",
        "                                        output_dict=True)).T\n",
        "\n",
        "df1['support'] = df1.support.apply(int)\n",
        "\n",
        "df1.style.background_gradient(cmap='viridis',\n",
        "                             subset=pd.IndexSlice['0':'9', :'f1-score'])"
      ],
      "metadata": {
        "colab": {
          "base_uri": "https://localhost:8080/",
          "height": 206
        },
        "id": "c7LiIBcs7CgL",
        "outputId": "89b92076-493d-4e20-a308-6aff38e13b5f"
      },
      "execution_count": 68,
      "outputs": [
        {
          "output_type": "execute_result",
          "data": {
            "text/html": [
              "<style  type=\"text/css\" >\n",
              "#T_cd798058_7a9a_11ec_bc2f_0242ac1c0002row0_col0,#T_cd798058_7a9a_11ec_bc2f_0242ac1c0002row0_col1,#T_cd798058_7a9a_11ec_bc2f_0242ac1c0002row0_col2{\n",
              "            background-color:  #fde725;\n",
              "            color:  #000000;\n",
              "        }#T_cd798058_7a9a_11ec_bc2f_0242ac1c0002row1_col0,#T_cd798058_7a9a_11ec_bc2f_0242ac1c0002row1_col1,#T_cd798058_7a9a_11ec_bc2f_0242ac1c0002row1_col2{\n",
              "            background-color:  #440154;\n",
              "            color:  #f1f1f1;\n",
              "        }</style><table id=\"T_cd798058_7a9a_11ec_bc2f_0242ac1c0002\" class=\"dataframe\"><thead>    <tr>        <th class=\"blank level0\" ></th>        <th class=\"col_heading level0 col0\" >precision</th>        <th class=\"col_heading level0 col1\" >recall</th>        <th class=\"col_heading level0 col2\" >f1-score</th>        <th class=\"col_heading level0 col3\" >support</th>    </tr></thead><tbody>\n",
              "                <tr>\n",
              "                        <th id=\"T_cd798058_7a9a_11ec_bc2f_0242ac1c0002level0_row0\" class=\"row_heading level0 row0\" >0</th>\n",
              "                        <td id=\"T_cd798058_7a9a_11ec_bc2f_0242ac1c0002row0_col0\" class=\"data row0 col0\" >0.970395</td>\n",
              "                        <td id=\"T_cd798058_7a9a_11ec_bc2f_0242ac1c0002row0_col1\" class=\"data row0 col1\" >0.972522</td>\n",
              "                        <td id=\"T_cd798058_7a9a_11ec_bc2f_0242ac1c0002row0_col2\" class=\"data row0 col2\" >0.971457</td>\n",
              "                        <td id=\"T_cd798058_7a9a_11ec_bc2f_0242ac1c0002row0_col3\" class=\"data row0 col3\" >5932</td>\n",
              "            </tr>\n",
              "            <tr>\n",
              "                        <th id=\"T_cd798058_7a9a_11ec_bc2f_0242ac1c0002level0_row1\" class=\"row_heading level0 row1\" >1</th>\n",
              "                        <td id=\"T_cd798058_7a9a_11ec_bc2f_0242ac1c0002row1_col0\" class=\"data row1 col0\" >0.636161</td>\n",
              "                        <td id=\"T_cd798058_7a9a_11ec_bc2f_0242ac1c0002row1_col1\" class=\"data row1 col1\" >0.618221</td>\n",
              "                        <td id=\"T_cd798058_7a9a_11ec_bc2f_0242ac1c0002row1_col2\" class=\"data row1 col2\" >0.627063</td>\n",
              "                        <td id=\"T_cd798058_7a9a_11ec_bc2f_0242ac1c0002row1_col3\" class=\"data row1 col3\" >461</td>\n",
              "            </tr>\n",
              "            <tr>\n",
              "                        <th id=\"T_cd798058_7a9a_11ec_bc2f_0242ac1c0002level0_row2\" class=\"row_heading level0 row2\" >accuracy</th>\n",
              "                        <td id=\"T_cd798058_7a9a_11ec_bc2f_0242ac1c0002row2_col0\" class=\"data row2 col0\" >0.946973</td>\n",
              "                        <td id=\"T_cd798058_7a9a_11ec_bc2f_0242ac1c0002row2_col1\" class=\"data row2 col1\" >0.946973</td>\n",
              "                        <td id=\"T_cd798058_7a9a_11ec_bc2f_0242ac1c0002row2_col2\" class=\"data row2 col2\" >0.946973</td>\n",
              "                        <td id=\"T_cd798058_7a9a_11ec_bc2f_0242ac1c0002row2_col3\" class=\"data row2 col3\" >0</td>\n",
              "            </tr>\n",
              "            <tr>\n",
              "                        <th id=\"T_cd798058_7a9a_11ec_bc2f_0242ac1c0002level0_row3\" class=\"row_heading level0 row3\" >macro avg</th>\n",
              "                        <td id=\"T_cd798058_7a9a_11ec_bc2f_0242ac1c0002row3_col0\" class=\"data row3 col0\" >0.803278</td>\n",
              "                        <td id=\"T_cd798058_7a9a_11ec_bc2f_0242ac1c0002row3_col1\" class=\"data row3 col1\" >0.795372</td>\n",
              "                        <td id=\"T_cd798058_7a9a_11ec_bc2f_0242ac1c0002row3_col2\" class=\"data row3 col2\" >0.799260</td>\n",
              "                        <td id=\"T_cd798058_7a9a_11ec_bc2f_0242ac1c0002row3_col3\" class=\"data row3 col3\" >6393</td>\n",
              "            </tr>\n",
              "            <tr>\n",
              "                        <th id=\"T_cd798058_7a9a_11ec_bc2f_0242ac1c0002level0_row4\" class=\"row_heading level0 row4\" >weighted avg</th>\n",
              "                        <td id=\"T_cd798058_7a9a_11ec_bc2f_0242ac1c0002row4_col0\" class=\"data row4 col0\" >0.946294</td>\n",
              "                        <td id=\"T_cd798058_7a9a_11ec_bc2f_0242ac1c0002row4_col1\" class=\"data row4 col1\" >0.946973</td>\n",
              "                        <td id=\"T_cd798058_7a9a_11ec_bc2f_0242ac1c0002row4_col2\" class=\"data row4 col2\" >0.946623</td>\n",
              "                        <td id=\"T_cd798058_7a9a_11ec_bc2f_0242ac1c0002row4_col3\" class=\"data row4 col3\" >6393</td>\n",
              "            </tr>\n",
              "    </tbody></table>"
            ],
            "text/plain": [
              "<pandas.io.formats.style.Styler at 0x7fac640c1d50>"
            ]
          },
          "metadata": {},
          "execution_count": 68
        }
      ]
    },
    {
      "cell_type": "code",
      "source": [
        "mod = MultinomialNB()\n",
        "mod.fit(x_trn,y_train)"
      ],
      "metadata": {
        "colab": {
          "base_uri": "https://localhost:8080/"
        },
        "id": "BBh66zfV7GjU",
        "outputId": "7af74942-2cbe-44a6-a68c-e5140a8c9f98"
      },
      "execution_count": 69,
      "outputs": [
        {
          "output_type": "execute_result",
          "data": {
            "text/plain": [
              "MultinomialNB()"
            ]
          },
          "metadata": {},
          "execution_count": 69
        }
      ]
    },
    {
      "cell_type": "code",
      "source": [
        "train_pred=mod.predict(x_trn)\n",
        "test_pred=mod.predict(x_tst)"
      ],
      "metadata": {
        "id": "y_F4ISYf7ISK"
      },
      "execution_count": 70,
      "outputs": []
    },
    {
      "cell_type": "code",
      "source": [
        "train_fpr,train_tpr,tr_treshold=roc_curve(y_train,train_pred)\n",
        "test_fpr,test_tpr,te_treshold=roc_curve(y_test,test_pred)\n",
        "\n",
        "train_auc=auc(train_fpr,train_tpr)\n",
        "test_auc=auc(test_fpr,test_tpr)\n",
        "\n",
        "plt.plot(train_fpr,train_tpr,label='Train AUC = '+str(train_auc))\n",
        "plt.plot(test_fpr,test_tpr,label='Test AUC = '+str(test_auc))\n",
        "plt.legend()\n",
        "plt.xlabel('FPR')\n",
        "plt.ylabel('TPR')\n",
        "plt.title(\"AUC_Curve\")\n",
        "plt.grid()\n",
        "plt.show()"
      ],
      "metadata": {
        "colab": {
          "base_uri": "https://localhost:8080/",
          "height": 533
        },
        "id": "N0qAWZpP7J-e",
        "outputId": "5bb69b15-1a2b-4124-80a2-8b00e3b82d91"
      },
      "execution_count": 71,
      "outputs": [
        {
          "output_type": "display_data",
          "data": {
            "image/png": "[encoded data removed]",
            "text/plain": [
              "<Figure size 842.4x595.44 with 1 Axes>"
            ]
          },
          "metadata": {}
        }
      ]
    },
    {
      "cell_type": "code",
      "source": [
        "# Summary\n",
        "df1 = pd.DataFrame(classification_report(mod.predict(x_tst), \n",
        "                                        y_test, digits=2,\n",
        "                                        output_dict=True)).T\n",
        "\n",
        "df1['support'] = df1.support.apply(int)\n",
        "\n",
        "df1.style.background_gradient(cmap='viridis',\n",
        "                             subset=pd.IndexSlice['0':'9', :'f1-score'])"
      ],
      "metadata": {
        "colab": {
          "base_uri": "https://localhost:8080/",
          "height": 206
        },
        "id": "2UkEnYW37yWL",
        "outputId": "fa38fcc2-d849-4c04-f7a9-2ecec6684203"
      },
      "execution_count": 74,
      "outputs": [
        {
          "output_type": "execute_result",
          "data": {
            "text/html": [
              "<style  type=\"text/css\" >\n",
              "#T_4fa2f4b0_7a9b_11ec_bc2f_0242ac1c0002row0_col0,#T_4fa2f4b0_7a9b_11ec_bc2f_0242ac1c0002row0_col1,#T_4fa2f4b0_7a9b_11ec_bc2f_0242ac1c0002row0_col2{\n",
              "            background-color:  #fde725;\n",
              "            color:  #000000;\n",
              "        }#T_4fa2f4b0_7a9b_11ec_bc2f_0242ac1c0002row1_col0,#T_4fa2f4b0_7a9b_11ec_bc2f_0242ac1c0002row1_col1,#T_4fa2f4b0_7a9b_11ec_bc2f_0242ac1c0002row1_col2{\n",
              "            background-color:  #440154;\n",
              "            color:  #f1f1f1;\n",
              "        }</style><table id=\"T_4fa2f4b0_7a9b_11ec_bc2f_0242ac1c0002\" class=\"dataframe\"><thead>    <tr>        <th class=\"blank level0\" ></th>        <th class=\"col_heading level0 col0\" >precision</th>        <th class=\"col_heading level0 col1\" >recall</th>        <th class=\"col_heading level0 col2\" >f1-score</th>        <th class=\"col_heading level0 col3\" >support</th>    </tr></thead><tbody>\n",
              "                <tr>\n",
              "                        <th id=\"T_4fa2f4b0_7a9b_11ec_bc2f_0242ac1c0002level0_row0\" class=\"row_heading level0 row0\" >0</th>\n",
              "                        <td id=\"T_4fa2f4b0_7a9b_11ec_bc2f_0242ac1c0002row0_col0\" class=\"data row0 col0\" >0.970732</td>\n",
              "                        <td id=\"T_4fa2f4b0_7a9b_11ec_bc2f_0242ac1c0002row0_col1\" class=\"data row0 col1\" >0.974337</td>\n",
              "                        <td id=\"T_4fa2f4b0_7a9b_11ec_bc2f_0242ac1c0002row0_col2\" class=\"data row0 col2\" >0.972531</td>\n",
              "                        <td id=\"T_4fa2f4b0_7a9b_11ec_bc2f_0242ac1c0002row0_col3\" class=\"data row0 col3\" >5923</td>\n",
              "            </tr>\n",
              "            <tr>\n",
              "                        <th id=\"T_4fa2f4b0_7a9b_11ec_bc2f_0242ac1c0002level0_row1\" class=\"row_heading level0 row1\" >1</th>\n",
              "                        <td id=\"T_4fa2f4b0_7a9b_11ec_bc2f_0242ac1c0002row1_col0\" class=\"data row1 col0\" >0.660714</td>\n",
              "                        <td id=\"T_4fa2f4b0_7a9b_11ec_bc2f_0242ac1c0002row1_col1\" class=\"data row1 col1\" >0.629787</td>\n",
              "                        <td id=\"T_4fa2f4b0_7a9b_11ec_bc2f_0242ac1c0002row1_col2\" class=\"data row1 col2\" >0.644880</td>\n",
              "                        <td id=\"T_4fa2f4b0_7a9b_11ec_bc2f_0242ac1c0002row1_col3\" class=\"data row1 col3\" >470</td>\n",
              "            </tr>\n",
              "            <tr>\n",
              "                        <th id=\"T_4fa2f4b0_7a9b_11ec_bc2f_0242ac1c0002level0_row2\" class=\"row_heading level0 row2\" >accuracy</th>\n",
              "                        <td id=\"T_4fa2f4b0_7a9b_11ec_bc2f_0242ac1c0002row2_col0\" class=\"data row2 col0\" >0.949007</td>\n",
              "                        <td id=\"T_4fa2f4b0_7a9b_11ec_bc2f_0242ac1c0002row2_col1\" class=\"data row2 col1\" >0.949007</td>\n",
              "                        <td id=\"T_4fa2f4b0_7a9b_11ec_bc2f_0242ac1c0002row2_col2\" class=\"data row2 col2\" >0.949007</td>\n",
              "                        <td id=\"T_4fa2f4b0_7a9b_11ec_bc2f_0242ac1c0002row2_col3\" class=\"data row2 col3\" >0</td>\n",
              "            </tr>\n",
              "            <tr>\n",
              "                        <th id=\"T_4fa2f4b0_7a9b_11ec_bc2f_0242ac1c0002level0_row3\" class=\"row_heading level0 row3\" >macro avg</th>\n",
              "                        <td id=\"T_4fa2f4b0_7a9b_11ec_bc2f_0242ac1c0002row3_col0\" class=\"data row3 col0\" >0.815723</td>\n",
              "                        <td id=\"T_4fa2f4b0_7a9b_11ec_bc2f_0242ac1c0002row3_col1\" class=\"data row3 col1\" >0.802062</td>\n",
              "                        <td id=\"T_4fa2f4b0_7a9b_11ec_bc2f_0242ac1c0002row3_col2\" class=\"data row3 col2\" >0.808706</td>\n",
              "                        <td id=\"T_4fa2f4b0_7a9b_11ec_bc2f_0242ac1c0002row3_col3\" class=\"data row3 col3\" >6393</td>\n",
              "            </tr>\n",
              "            <tr>\n",
              "                        <th id=\"T_4fa2f4b0_7a9b_11ec_bc2f_0242ac1c0002level0_row4\" class=\"row_heading level0 row4\" >weighted avg</th>\n",
              "                        <td id=\"T_4fa2f4b0_7a9b_11ec_bc2f_0242ac1c0002row4_col0\" class=\"data row4 col0\" >0.947940</td>\n",
              "                        <td id=\"T_4fa2f4b0_7a9b_11ec_bc2f_0242ac1c0002row4_col1\" class=\"data row4 col1\" >0.949007</td>\n",
              "                        <td id=\"T_4fa2f4b0_7a9b_11ec_bc2f_0242ac1c0002row4_col2\" class=\"data row4 col2\" >0.948443</td>\n",
              "                        <td id=\"T_4fa2f4b0_7a9b_11ec_bc2f_0242ac1c0002row4_col3\" class=\"data row4 col3\" >6393</td>\n",
              "            </tr>\n",
              "    </tbody></table>"
            ],
            "text/plain": [
              "<pandas.io.formats.style.Styler at 0x7fac63fb18d0>"
            ]
          },
          "metadata": {},
          "execution_count": 74
        }
      ]
    },
    {
      "cell_type": "code",
      "source": [
        "dt_df = pd.DataFrame(columns=['tweet', 'sentiment-predicted', 'label'])\n",
        "dt_df['tweet'] = x_test['tweet']\n",
        "dt_df['sentiment-predicted'] = test_pred\n",
        "dt_df['label'] =y_test\n",
        "dt_df.replace(to_replace=[0,1],value=['Positive','Negative'], inplace=True)\n",
        "(dt_df.sample(10)[['tweet','sentiment-predicted','label']].style\n",
        "    .applymap(color_negative_red, subset=['sentiment-predicted','label']))"
      ],
      "metadata": {
        "colab": {
          "base_uri": "https://localhost:8080/",
          "height": 363
        },
        "id": "nvstoTVR76Om",
        "outputId": "212fd3dc-124e-4328-c405-878ec5cb6310"
      },
      "execution_count": 77,
      "outputs": [
        {
          "output_type": "execute_result",
          "data": {
            "text/html": [
              "<style  type=\"text/css\" >\n",
              "#T_7f7d4b40_7a9b_11ec_bc2f_0242ac1c0002row0_col1,#T_7f7d4b40_7a9b_11ec_bc2f_0242ac1c0002row0_col2,#T_7f7d4b40_7a9b_11ec_bc2f_0242ac1c0002row1_col2,#T_7f7d4b40_7a9b_11ec_bc2f_0242ac1c0002row2_col1,#T_7f7d4b40_7a9b_11ec_bc2f_0242ac1c0002row2_col2,#T_7f7d4b40_7a9b_11ec_bc2f_0242ac1c0002row3_col1,#T_7f7d4b40_7a9b_11ec_bc2f_0242ac1c0002row3_col2,#T_7f7d4b40_7a9b_11ec_bc2f_0242ac1c0002row4_col1,#T_7f7d4b40_7a9b_11ec_bc2f_0242ac1c0002row4_col2,#T_7f7d4b40_7a9b_11ec_bc2f_0242ac1c0002row5_col1,#T_7f7d4b40_7a9b_11ec_bc2f_0242ac1c0002row5_col2,#T_7f7d4b40_7a9b_11ec_bc2f_0242ac1c0002row6_col1,#T_7f7d4b40_7a9b_11ec_bc2f_0242ac1c0002row6_col2,#T_7f7d4b40_7a9b_11ec_bc2f_0242ac1c0002row7_col1,#T_7f7d4b40_7a9b_11ec_bc2f_0242ac1c0002row7_col2,#T_7f7d4b40_7a9b_11ec_bc2f_0242ac1c0002row8_col1,#T_7f7d4b40_7a9b_11ec_bc2f_0242ac1c0002row8_col2,#T_7f7d4b40_7a9b_11ec_bc2f_0242ac1c0002row9_col1,#T_7f7d4b40_7a9b_11ec_bc2f_0242ac1c0002row9_col2{\n",
              "            color:  green;\n",
              "        }#T_7f7d4b40_7a9b_11ec_bc2f_0242ac1c0002row1_col1{\n",
              "            color:  red;\n",
              "        }</style><table id=\"T_7f7d4b40_7a9b_11ec_bc2f_0242ac1c0002\" class=\"dataframe\"><thead>    <tr>        <th class=\"blank level0\" ></th>        <th class=\"col_heading level0 col0\" >tweet</th>        <th class=\"col_heading level0 col1\" >sentiment-predicted</th>        <th class=\"col_heading level0 col2\" >label</th>    </tr></thead><tbody>\n",
              "                <tr>\n",
              "                        <th id=\"T_7f7d4b40_7a9b_11ec_bc2f_0242ac1c0002level0_row0\" class=\"row_heading level0 row0\" >22927</th>\n",
              "                        <td id=\"T_7f7d4b40_7a9b_11ec_bc2f_0242ac1c0002row0_col0\" class=\"data row0 col0\" >happy friday zoe friday friday tgifridays beaglemania beagles beagle</td>\n",
              "                        <td id=\"T_7f7d4b40_7a9b_11ec_bc2f_0242ac1c0002row0_col1\" class=\"data row0 col1\" >Positive</td>\n",
              "                        <td id=\"T_7f7d4b40_7a9b_11ec_bc2f_0242ac1c0002row0_col2\" class=\"data row0 col2\" >Positive</td>\n",
              "            </tr>\n",
              "            <tr>\n",
              "                        <th id=\"T_7f7d4b40_7a9b_11ec_bc2f_0242ac1c0002level0_row1\" class=\"row_heading level0 row1\" >4447</th>\n",
              "                        <td id=\"T_7f7d4b40_7a9b_11ec_bc2f_0242ac1c0002row1_col0\" class=\"data row1 col0\" >terrible war world ideology vs humanity equals liveslost problem throughout world</td>\n",
              "                        <td id=\"T_7f7d4b40_7a9b_11ec_bc2f_0242ac1c0002row1_col1\" class=\"data row1 col1\" >Negative</td>\n",
              "                        <td id=\"T_7f7d4b40_7a9b_11ec_bc2f_0242ac1c0002row1_col2\" class=\"data row1 col2\" >Positive</td>\n",
              "            </tr>\n",
              "            <tr>\n",
              "                        <th id=\"T_7f7d4b40_7a9b_11ec_bc2f_0242ac1c0002level0_row2\" class=\"row_heading level0 row2\" >4026</th>\n",
              "                        <td id=\"T_7f7d4b40_7a9b_11ec_bc2f_0242ac1c0002row2_col0\" class=\"data row2 col0\" >oscar tabarez talks luis suarez angry reaction spos luis oscar</td>\n",
              "                        <td id=\"T_7f7d4b40_7a9b_11ec_bc2f_0242ac1c0002row2_col1\" class=\"data row2 col1\" >Positive</td>\n",
              "                        <td id=\"T_7f7d4b40_7a9b_11ec_bc2f_0242ac1c0002row2_col2\" class=\"data row2 col2\" >Positive</td>\n",
              "            </tr>\n",
              "            <tr>\n",
              "                        <th id=\"T_7f7d4b40_7a9b_11ec_bc2f_0242ac1c0002level0_row3\" class=\"row_heading level0 row3\" >5844</th>\n",
              "                        <td id=\"T_7f7d4b40_7a9b_11ec_bc2f_0242ac1c0002row3_col0\" class=\"data row3 col0\" >appreciatesomeone someone would love hear word appreciation</td>\n",
              "                        <td id=\"T_7f7d4b40_7a9b_11ec_bc2f_0242ac1c0002row3_col1\" class=\"data row3 col1\" >Positive</td>\n",
              "                        <td id=\"T_7f7d4b40_7a9b_11ec_bc2f_0242ac1c0002row3_col2\" class=\"data row3 col2\" >Positive</td>\n",
              "            </tr>\n",
              "            <tr>\n",
              "                        <th id=\"T_7f7d4b40_7a9b_11ec_bc2f_0242ac1c0002level0_row4\" class=\"row_heading level0 row4\" >13227</th>\n",
              "                        <td id=\"T_7f7d4b40_7a9b_11ec_bc2f_0242ac1c0002row4_col0\" class=\"data row4 col0\" >lucky positive affirmation</td>\n",
              "                        <td id=\"T_7f7d4b40_7a9b_11ec_bc2f_0242ac1c0002row4_col1\" class=\"data row4 col1\" >Positive</td>\n",
              "                        <td id=\"T_7f7d4b40_7a9b_11ec_bc2f_0242ac1c0002row4_col2\" class=\"data row4 col2\" >Positive</td>\n",
              "            </tr>\n",
              "            <tr>\n",
              "                        <th id=\"T_7f7d4b40_7a9b_11ec_bc2f_0242ac1c0002level0_row5\" class=\"row_heading level0 row5\" >17004</th>\n",
              "                        <td id=\"T_7f7d4b40_7a9b_11ec_bc2f_0242ac1c0002row5_col0\" class=\"data row5 col0\" >today day celebrate active fathers u not child today not 4 u fathersday friends family</td>\n",
              "                        <td id=\"T_7f7d4b40_7a9b_11ec_bc2f_0242ac1c0002row5_col1\" class=\"data row5 col1\" >Positive</td>\n",
              "                        <td id=\"T_7f7d4b40_7a9b_11ec_bc2f_0242ac1c0002row5_col2\" class=\"data row5 col2\" >Positive</td>\n",
              "            </tr>\n",
              "            <tr>\n",
              "                        <th id=\"T_7f7d4b40_7a9b_11ec_bc2f_0242ac1c0002level0_row6\" class=\"row_heading level0 row6\" >16091</th>\n",
              "                        <td id=\"T_7f7d4b40_7a9b_11ec_bc2f_0242ac1c0002row6_col0\" class=\"data row6 col0\" >not watch dumpdrumpf nothappening never gross</td>\n",
              "                        <td id=\"T_7f7d4b40_7a9b_11ec_bc2f_0242ac1c0002row6_col1\" class=\"data row6 col1\" >Positive</td>\n",
              "                        <td id=\"T_7f7d4b40_7a9b_11ec_bc2f_0242ac1c0002row6_col2\" class=\"data row6 col2\" >Positive</td>\n",
              "            </tr>\n",
              "            <tr>\n",
              "                        <th id=\"T_7f7d4b40_7a9b_11ec_bc2f_0242ac1c0002level0_row7\" class=\"row_heading level0 row7\" >25049</th>\n",
              "                        <td id=\"T_7f7d4b40_7a9b_11ec_bc2f_0242ac1c0002row7_col0\" class=\"data row7 col0\" >miss mom dad bad right speechless nobueno</td>\n",
              "                        <td id=\"T_7f7d4b40_7a9b_11ec_bc2f_0242ac1c0002row7_col1\" class=\"data row7 col1\" >Positive</td>\n",
              "                        <td id=\"T_7f7d4b40_7a9b_11ec_bc2f_0242ac1c0002row7_col2\" class=\"data row7 col2\" >Positive</td>\n",
              "            </tr>\n",
              "            <tr>\n",
              "                        <th id=\"T_7f7d4b40_7a9b_11ec_bc2f_0242ac1c0002level0_row8\" class=\"row_heading level0 row8\" >38</th>\n",
              "                        <td id=\"T_7f7d4b40_7a9b_11ec_bc2f_0242ac1c0002row8_col0\" class=\"data row8 col0\" >oh cedarpoint waited 2 hours valravn line stopped working close</td>\n",
              "                        <td id=\"T_7f7d4b40_7a9b_11ec_bc2f_0242ac1c0002row8_col1\" class=\"data row8 col1\" >Positive</td>\n",
              "                        <td id=\"T_7f7d4b40_7a9b_11ec_bc2f_0242ac1c0002row8_col2\" class=\"data row8 col2\" >Positive</td>\n",
              "            </tr>\n",
              "            <tr>\n",
              "                        <th id=\"T_7f7d4b40_7a9b_11ec_bc2f_0242ac1c0002level0_row9\" class=\"row_heading level0 row9\" >2435</th>\n",
              "                        <td id=\"T_7f7d4b40_7a9b_11ec_bc2f_0242ac1c0002row9_col0\" class=\"data row9 col0\" >happiness dogs angel armani chihuahua dogs puppylove loved blessed lucky</td>\n",
              "                        <td id=\"T_7f7d4b40_7a9b_11ec_bc2f_0242ac1c0002row9_col1\" class=\"data row9 col1\" >Positive</td>\n",
              "                        <td id=\"T_7f7d4b40_7a9b_11ec_bc2f_0242ac1c0002row9_col2\" class=\"data row9 col2\" >Positive</td>\n",
              "            </tr>\n",
              "    </tbody></table>"
            ],
            "text/plain": [
              "<pandas.io.formats.style.Styler at 0x7fac63ddb910>"
            ]
          },
          "metadata": {},
          "execution_count": 77
        }
      ]
    },
    {
      "cell_type": "markdown",
      "source": [
        "# **XGBoost**"
      ],
      "metadata": {
        "id": "y_OnwwZ88jRK"
      }
    },
    {
      "cell_type": "code",
      "source": [
        "# Import the libraries\n",
        "from xgboost import XGBClassifier\n",
        "from sklearn.model_selection import KFold\n",
        "from sklearn.model_selection import cross_val_score"
      ],
      "metadata": {
        "id": "qyWzWfR58nLo"
      },
      "execution_count": 102,
      "outputs": []
    },
    {
      "cell_type": "code",
      "source": [
        "y_train.value_counts()"
      ],
      "metadata": {
        "colab": {
          "base_uri": "https://localhost:8080/"
        },
        "id": "onBGylwO8sQn",
        "outputId": "e8106e1d-3421-4cb8-f278-72de5467d5ea"
      },
      "execution_count": 103,
      "outputs": [
        {
          "output_type": "execute_result",
          "data": {
            "text/plain": [
              "0    23775\n",
              "1     1794\n",
              "Name: label, dtype: int64"
            ]
          },
          "metadata": {},
          "execution_count": 103
        }
      ]
    },
    {
      "cell_type": "code",
      "source": [
        "xgb = XGBClassifier(base_score=0.5, colsample_bylevel=1, colsample_bytree=1,\n",
        "       gamma=0, learning_rate=0.1, max_delta_step=0,\n",
        "       max_depth={'max_depth': 10}, min_child_weight=1, missing=None,\n",
        "       n_estimators=100, nthread=-1, objective='binary:logistic',\n",
        "       reg_alpha=0, reg_lambda=1, scale_pos_weight=1, seed=0, silent=True,\n",
        "       subsample=1)\n",
        "\n",
        "prediction = xgb.predict(x_te) \n",
        "\n",
        "f1_score(y_test, prediction)"
      ],
      "metadata": {
        "colab": {
          "base_uri": "https://localhost:8080/",
          "height": 380
        },
        "id": "wI2f1zjZ8uEf",
        "outputId": "2c19673b-5754-4bf0-dd3d-48e6a1a9f1f5"
      },
      "execution_count": 105,
      "outputs": [
        {
          "output_type": "error",
          "ename": "XGBoostError",
          "evalue": "ignored",
          "traceback": [
            "\u001b[0;31m---------------------------------------------------------------------------\u001b[0m",
            "\u001b[0;31mXGBoostError\u001b[0m                              Traceback (most recent call last)",
            "\u001b[0;32m<ipython-input-105-1d5a97771df6>\u001b[0m in \u001b[0;36m<module>\u001b[0;34m()\u001b[0m\n\u001b[1;32m      5\u001b[0m        \u001b[0mreg_alpha\u001b[0m\u001b[0;34m=\u001b[0m\u001b[0;36m0\u001b[0m\u001b[0;34m,\u001b[0m \u001b[0mreg_lambda\u001b[0m\u001b[0;34m=\u001b[0m\u001b[0;36m1\u001b[0m\u001b[0;34m,\u001b[0m \u001b[0mscale_pos_weight\u001b[0m\u001b[0;34m=\u001b[0m\u001b[0;36m1\u001b[0m\u001b[0;34m,\u001b[0m \u001b[0mseed\u001b[0m\u001b[0;34m=\u001b[0m\u001b[0;36m0\u001b[0m\u001b[0;34m,\u001b[0m \u001b[0msilent\u001b[0m\u001b[0;34m=\u001b[0m\u001b[0;32mTrue\u001b[0m\u001b[0;34m,\u001b[0m\u001b[0;34m\u001b[0m\u001b[0;34m\u001b[0m\u001b[0m\n\u001b[1;32m      6\u001b[0m        subsample=1)\n\u001b[0;32m----> 7\u001b[0;31m \u001b[0mprediction\u001b[0m \u001b[0;34m=\u001b[0m \u001b[0mxgb\u001b[0m\u001b[0;34m.\u001b[0m\u001b[0mpredict\u001b[0m\u001b[0;34m(\u001b[0m\u001b[0mx_te\u001b[0m\u001b[0;34m)\u001b[0m\u001b[0;34m\u001b[0m\u001b[0;34m\u001b[0m\u001b[0m\n\u001b[0m\u001b[1;32m      8\u001b[0m \u001b[0;34m\u001b[0m\u001b[0m\n\u001b[1;32m      9\u001b[0m \u001b[0mf1_score\u001b[0m\u001b[0;34m(\u001b[0m\u001b[0my_test\u001b[0m\u001b[0;34m,\u001b[0m \u001b[0mprediction\u001b[0m\u001b[0;34m)\u001b[0m\u001b[0;34m\u001b[0m\u001b[0;34m\u001b[0m\u001b[0m\n",
            "\u001b[0;32m/usr/local/lib/python3.7/dist-packages/xgboost/sklearn.py\u001b[0m in \u001b[0;36mpredict\u001b[0;34m(self, data, output_margin, ntree_limit, validate_features)\u001b[0m\n\u001b[1;32m    786\u001b[0m         \u001b[0;32mif\u001b[0m \u001b[0mntree_limit\u001b[0m \u001b[0;32mis\u001b[0m \u001b[0;32mNone\u001b[0m\u001b[0;34m:\u001b[0m\u001b[0;34m\u001b[0m\u001b[0;34m\u001b[0m\u001b[0m\n\u001b[1;32m    787\u001b[0m             \u001b[0mntree_limit\u001b[0m \u001b[0;34m=\u001b[0m \u001b[0mgetattr\u001b[0m\u001b[0;34m(\u001b[0m\u001b[0mself\u001b[0m\u001b[0;34m,\u001b[0m \u001b[0;34m\"best_ntree_limit\"\u001b[0m\u001b[0;34m,\u001b[0m \u001b[0;36m0\u001b[0m\u001b[0;34m)\u001b[0m\u001b[0;34m\u001b[0m\u001b[0;34m\u001b[0m\u001b[0m\n\u001b[0;32m--> 788\u001b[0;31m         class_probs = self.get_booster().predict(test_dmatrix,\n\u001b[0m\u001b[1;32m    789\u001b[0m                                                  \u001b[0moutput_margin\u001b[0m\u001b[0;34m=\u001b[0m\u001b[0moutput_margin\u001b[0m\u001b[0;34m,\u001b[0m\u001b[0;34m\u001b[0m\u001b[0;34m\u001b[0m\u001b[0m\n\u001b[1;32m    790\u001b[0m                                                  \u001b[0mntree_limit\u001b[0m\u001b[0;34m=\u001b[0m\u001b[0mntree_limit\u001b[0m\u001b[0;34m,\u001b[0m\u001b[0;34m\u001b[0m\u001b[0;34m\u001b[0m\u001b[0m\n",
            "\u001b[0;32m/usr/local/lib/python3.7/dist-packages/xgboost/sklearn.py\u001b[0m in \u001b[0;36mget_booster\u001b[0;34m(self)\u001b[0m\n\u001b[1;32m    191\u001b[0m         \"\"\"\n\u001b[1;32m    192\u001b[0m         \u001b[0;32mif\u001b[0m \u001b[0mself\u001b[0m\u001b[0;34m.\u001b[0m\u001b[0m_Booster\u001b[0m \u001b[0;32mis\u001b[0m \u001b[0;32mNone\u001b[0m\u001b[0;34m:\u001b[0m\u001b[0;34m\u001b[0m\u001b[0;34m\u001b[0m\u001b[0m\n\u001b[0;32m--> 193\u001b[0;31m             \u001b[0;32mraise\u001b[0m \u001b[0mXGBoostError\u001b[0m\u001b[0;34m(\u001b[0m\u001b[0;34m'need to call fit or load_model beforehand'\u001b[0m\u001b[0;34m)\u001b[0m\u001b[0;34m\u001b[0m\u001b[0;34m\u001b[0m\u001b[0m\n\u001b[0m\u001b[1;32m    194\u001b[0m         \u001b[0;32mreturn\u001b[0m \u001b[0mself\u001b[0m\u001b[0;34m.\u001b[0m\u001b[0m_Booster\u001b[0m\u001b[0;34m\u001b[0m\u001b[0;34m\u001b[0m\u001b[0m\n\u001b[1;32m    195\u001b[0m \u001b[0;34m\u001b[0m\u001b[0m\n",
            "\u001b[0;31mXGBoostError\u001b[0m: need to call fit or load_model beforehand"
          ]
        }
      ]
    },
    {
      "cell_type": "code",
      "source": [
        "# XGB Parameters cannot be loaded \n",
        "kfmodel = XGBClassifier(base_score=0.5, booster='gbtree', colsample_bylevel=1,\n",
        "              colsample_bynode=1, colsample_bytree=1, gamma=0, gpu_id=-1,\n",
        "              importance_type='gain', interaction_constraints='',\n",
        "              learning_rate=0.300000012, max_delta_step=0, max_depth=6,\n",
        "              min_child_weight=1, missing=None, monotone_constraints='()',\n",
        "              n_estimators=500, n_jobs=8, num_parallel_tree=1, random_state=0,\n",
        "              reg_alpha=0, reg_lambda=1, scale_pos_weight=1, subsample=1,\n",
        "              tree_method='exact', validate_parameters=1, verbosity=None,)\n",
        "kfold = KFold(n_splits=8, random_state=7, shuffle=True)\n",
        "results = cross_val_score(kfmodel, x_tr, y_train, cv=kfold)\n",
        "print(\"Accuracy: %.2f%% (%.2f%%)\" % (results.mean()*100, results.std()*100))\n",
        "print(results)"
      ],
      "metadata": {
        "colab": {
          "base_uri": "https://localhost:8080/"
        },
        "id": "cLpUw0tp9lRl",
        "outputId": "059891ea-cecf-43ff-e131-5ecb681a1247"
      },
      "execution_count": 85,
      "outputs": [
        {
          "output_type": "stream",
          "name": "stdout",
          "text": [
            "Accuracy: nan% (nan%)\n",
            "[nan nan nan nan nan nan nan nan]\n"
          ]
        },
        {
          "output_type": "stream",
          "name": "stderr",
          "text": [
            "/usr/local/lib/python3.7/dist-packages/sklearn/model_selection/_validation.py:372: FitFailedWarning: \n",
            "8 fits failed out of a total of 8.\n",
            "The score on these train-test partitions for these parameters will be set to nan.\n",
            "If these failures are not expected, you can try to debug them by setting error_score='raise'.\n",
            "\n",
            "Below are more details about the failures:\n",
            "--------------------------------------------------------------------------------\n",
            "8 fits failed with the following error:\n",
            "Traceback (most recent call last):\n",
            "  File \"/usr/local/lib/python3.7/dist-packages/sklearn/model_selection/_validation.py\", line 680, in _fit_and_score\n",
            "    estimator.fit(X_train, y_train, **fit_params)\n",
            "  File \"/usr/local/lib/python3.7/dist-packages/xgboost/sklearn.py\", line 732, in fit\n",
            "    callbacks=callbacks)\n",
            "  File \"/usr/local/lib/python3.7/dist-packages/xgboost/training.py\", line 216, in train\n",
            "    xgb_model=xgb_model, callbacks=callbacks)\n",
            "  File \"/usr/local/lib/python3.7/dist-packages/xgboost/training.py\", line 74, in _train_internal\n",
            "    bst.update(dtrain, i, obj)\n",
            "  File \"/usr/local/lib/python3.7/dist-packages/xgboost/core.py\", line 1109, in update\n",
            "    dtrain.handle))\n",
            "  File \"/usr/local/lib/python3.7/dist-packages/xgboost/core.py\", line 176, in _check_call\n",
            "    raise XGBoostError(py_str(_LIB.XGBGetLastError()))\n",
            "xgboost.core.XGBoostError: Invalid Parameter format for verbosity expect int but value='None'\n",
            "\n",
            "  warnings.warn(some_fits_failed_message, FitFailedWarning)\n"
          ]
        }
      ]
    },
    {
      "cell_type": "code",
      "source": [
        "train_prediction=xgb.predict(x_tr)"
      ],
      "metadata": {
        "colab": {
          "base_uri": "https://localhost:8080/",
          "height": 165
        },
        "id": "djCygIZq9oBO",
        "outputId": "953624a7-8aae-4b26-d337-413c77620481"
      },
      "execution_count": 86,
      "outputs": [
        {
          "output_type": "error",
          "ename": "NameError",
          "evalue": "ignored",
          "traceback": [
            "\u001b[0;31m---------------------------------------------------------------------------\u001b[0m",
            "\u001b[0;31mNameError\u001b[0m                                 Traceback (most recent call last)",
            "\u001b[0;32m<ipython-input-86-06b1759f3514>\u001b[0m in \u001b[0;36m<module>\u001b[0;34m()\u001b[0m\n\u001b[0;32m----> 1\u001b[0;31m \u001b[0mtrain_prediction\u001b[0m\u001b[0;34m=\u001b[0m\u001b[0mxgb\u001b[0m\u001b[0;34m.\u001b[0m\u001b[0mpredict\u001b[0m\u001b[0;34m(\u001b[0m\u001b[0mx_tr\u001b[0m\u001b[0;34m)\u001b[0m\u001b[0;34m\u001b[0m\u001b[0;34m\u001b[0m\u001b[0m\n\u001b[0m",
            "\u001b[0;31mNameError\u001b[0m: name 'xgb' is not defined"
          ]
        }
      ]
    }
  ]
}
